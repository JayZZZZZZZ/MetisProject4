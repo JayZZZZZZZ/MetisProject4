{
 "cells": [
  {
   "cell_type": "code",
   "execution_count": 257,
   "metadata": {},
   "outputs": [],
   "source": [
    "# Importing Library #\n",
    "import numpy as np, pandas as pd\n",
    "import seaborn as sns\n",
    "import matplotlib.pyplot as plt\n",
    "\n",
    "import re \n",
    "import string\n",
    "\n",
    "import nltk \n",
    "from nltk import word_tokenize,sent_tokenize\n",
    "from nltk.stem.porter import PorterStemmer\n",
    "\n",
    "from nltk.corpus import stopwords\n",
    "from nltk import pos_tag\n",
    "from nltk.corpus import wordnet\n",
    "from wordcloud import WordCloud,STOPWORDS\n",
    "from nltk.stem import WordNetLemmatizer\n",
    "from nltk.tokenize import word_tokenize\n",
    "from nltk.tokenize import wordpunct_tokenize\n",
    "from nltk.tokenize import TweetTokenizer\n",
    "\n",
    "from gensim.models import Word2Vec\n",
    "\n",
    "from sklearn.model_selection import train_test_split\n",
    "from sklearn.feature_extraction.text import CountVectorizer\n",
    "from sklearn.feature_extraction.text import TfidfVectorizer\n",
    "from sklearn.cluster import MiniBatchKMeans\n",
    "from sklearn.decomposition import NMF\n",
    "from sklearn.decomposition import PCA\n",
    "from sklearn import metrics\n",
    "\n",
    "from sklearn.preprocessing import StandardScaler\n",
    "import matplotlib.pyplot as plt\n",
    "import seaborn as sns\n",
    "import numpy as np\n",
    "\n",
    "import warnings\n",
    "warnings.filterwarnings('ignore')\n",
    "\n",
    "\n",
    "plt.style.use(\"seaborn\")\n",
    "%matplotlib inline"
   ]
  },
  {
   "cell_type": "code",
   "execution_count": 258,
   "metadata": {},
   "outputs": [],
   "source": [
    "import warnings\n",
    "warnings.filterwarnings('ignore')"
   ]
  },
  {
   "cell_type": "code",
   "execution_count": 259,
   "metadata": {},
   "outputs": [
    {
     "data": {
      "text/html": [
       "<div>\n",
       "<style scoped>\n",
       "    .dataframe tbody tr th:only-of-type {\n",
       "        vertical-align: middle;\n",
       "    }\n",
       "\n",
       "    .dataframe tbody tr th {\n",
       "        vertical-align: top;\n",
       "    }\n",
       "\n",
       "    .dataframe thead th {\n",
       "        text-align: right;\n",
       "    }\n",
       "</style>\n",
       "<table border=\"1\" class=\"dataframe\">\n",
       "  <thead>\n",
       "    <tr style=\"text-align: right;\">\n",
       "      <th></th>\n",
       "      <th>reviewerID</th>\n",
       "      <th>asin</th>\n",
       "      <th>reviewerName</th>\n",
       "      <th>helpful</th>\n",
       "      <th>reviewText</th>\n",
       "      <th>overall</th>\n",
       "      <th>summary</th>\n",
       "      <th>unixReviewTime</th>\n",
       "      <th>reviewTime</th>\n",
       "    </tr>\n",
       "  </thead>\n",
       "  <tbody>\n",
       "    <tr>\n",
       "      <th>0</th>\n",
       "      <td>A2IBPI20UZIR0U</td>\n",
       "      <td>1384719342</td>\n",
       "      <td>cassandra tu \"Yeah, well, that's just like, u...</td>\n",
       "      <td>[0, 0]</td>\n",
       "      <td>Not much to write about here, but it does exac...</td>\n",
       "      <td>5.0</td>\n",
       "      <td>good</td>\n",
       "      <td>1393545600</td>\n",
       "      <td>02 28, 2014</td>\n",
       "    </tr>\n",
       "    <tr>\n",
       "      <th>1</th>\n",
       "      <td>A14VAT5EAX3D9S</td>\n",
       "      <td>1384719342</td>\n",
       "      <td>Jake</td>\n",
       "      <td>[13, 14]</td>\n",
       "      <td>The product does exactly as it should and is q...</td>\n",
       "      <td>5.0</td>\n",
       "      <td>Jake</td>\n",
       "      <td>1363392000</td>\n",
       "      <td>03 16, 2013</td>\n",
       "    </tr>\n",
       "    <tr>\n",
       "      <th>2</th>\n",
       "      <td>A195EZSQDW3E21</td>\n",
       "      <td>1384719342</td>\n",
       "      <td>Rick Bennette \"Rick Bennette\"</td>\n",
       "      <td>[1, 1]</td>\n",
       "      <td>The primary job of this device is to block the...</td>\n",
       "      <td>5.0</td>\n",
       "      <td>It Does The Job Well</td>\n",
       "      <td>1377648000</td>\n",
       "      <td>08 28, 2013</td>\n",
       "    </tr>\n",
       "    <tr>\n",
       "      <th>3</th>\n",
       "      <td>A2C00NNG1ZQQG2</td>\n",
       "      <td>1384719342</td>\n",
       "      <td>RustyBill \"Sunday Rocker\"</td>\n",
       "      <td>[0, 0]</td>\n",
       "      <td>Nice windscreen protects my MXL mic and preven...</td>\n",
       "      <td>5.0</td>\n",
       "      <td>GOOD WINDSCREEN FOR THE MONEY</td>\n",
       "      <td>1392336000</td>\n",
       "      <td>02 14, 2014</td>\n",
       "    </tr>\n",
       "    <tr>\n",
       "      <th>4</th>\n",
       "      <td>A94QU4C90B1AX</td>\n",
       "      <td>1384719342</td>\n",
       "      <td>SEAN MASLANKA</td>\n",
       "      <td>[0, 0]</td>\n",
       "      <td>This pop filter is great. It looks and perform...</td>\n",
       "      <td>5.0</td>\n",
       "      <td>No more pops when I record my vocals.</td>\n",
       "      <td>1392940800</td>\n",
       "      <td>02 21, 2014</td>\n",
       "    </tr>\n",
       "  </tbody>\n",
       "</table>\n",
       "</div>"
      ],
      "text/plain": [
       "       reviewerID        asin  \\\n",
       "0  A2IBPI20UZIR0U  1384719342   \n",
       "1  A14VAT5EAX3D9S  1384719342   \n",
       "2  A195EZSQDW3E21  1384719342   \n",
       "3  A2C00NNG1ZQQG2  1384719342   \n",
       "4   A94QU4C90B1AX  1384719342   \n",
       "\n",
       "                                       reviewerName   helpful  \\\n",
       "0  cassandra tu \"Yeah, well, that's just like, u...    [0, 0]   \n",
       "1                                              Jake  [13, 14]   \n",
       "2                     Rick Bennette \"Rick Bennette\"    [1, 1]   \n",
       "3                         RustyBill \"Sunday Rocker\"    [0, 0]   \n",
       "4                                     SEAN MASLANKA    [0, 0]   \n",
       "\n",
       "                                          reviewText  overall  \\\n",
       "0  Not much to write about here, but it does exac...      5.0   \n",
       "1  The product does exactly as it should and is q...      5.0   \n",
       "2  The primary job of this device is to block the...      5.0   \n",
       "3  Nice windscreen protects my MXL mic and preven...      5.0   \n",
       "4  This pop filter is great. It looks and perform...      5.0   \n",
       "\n",
       "                                 summary  unixReviewTime   reviewTime  \n",
       "0                                   good      1393545600  02 28, 2014  \n",
       "1                                   Jake      1363392000  03 16, 2013  \n",
       "2                   It Does The Job Well      1377648000  08 28, 2013  \n",
       "3          GOOD WINDSCREEN FOR THE MONEY      1392336000  02 14, 2014  \n",
       "4  No more pops when I record my vocals.      1392940800  02 21, 2014  "
      ]
     },
     "execution_count": 259,
     "metadata": {},
     "output_type": "execute_result"
    }
   ],
   "source": [
    "# Load Data #\n",
    "\n",
    "df = pd.read_csv('./Musical_instruments_reviews.csv')\n",
    "df.head()"
   ]
  },
  {
   "cell_type": "code",
   "execution_count": 260,
   "metadata": {},
   "outputs": [
    {
     "name": "stdout",
     "output_type": "stream",
     "text": [
      "<class 'pandas.core.frame.DataFrame'>\n",
      "RangeIndex: 10261 entries, 0 to 10260\n",
      "Data columns (total 9 columns):\n",
      " #   Column          Non-Null Count  Dtype  \n",
      "---  ------          --------------  -----  \n",
      " 0   reviewerID      10261 non-null  object \n",
      " 1   asin            10261 non-null  object \n",
      " 2   reviewerName    10234 non-null  object \n",
      " 3   helpful         10261 non-null  object \n",
      " 4   reviewText      10254 non-null  object \n",
      " 5   overall         10261 non-null  float64\n",
      " 6   summary         10261 non-null  object \n",
      " 7   unixReviewTime  10261 non-null  int64  \n",
      " 8   reviewTime      10261 non-null  object \n",
      "dtypes: float64(1), int64(1), object(7)\n",
      "memory usage: 721.6+ KB\n"
     ]
    }
   ],
   "source": [
    "# EDA & Data Cleaning #\n",
    "\n",
    "df.info()"
   ]
  },
  {
   "cell_type": "code",
   "execution_count": 261,
   "metadata": {},
   "outputs": [
    {
     "data": {
      "text/html": [
       "<div>\n",
       "<style scoped>\n",
       "    .dataframe tbody tr th:only-of-type {\n",
       "        vertical-align: middle;\n",
       "    }\n",
       "\n",
       "    .dataframe tbody tr th {\n",
       "        vertical-align: top;\n",
       "    }\n",
       "\n",
       "    .dataframe thead th {\n",
       "        text-align: right;\n",
       "    }\n",
       "</style>\n",
       "<table border=\"1\" class=\"dataframe\">\n",
       "  <thead>\n",
       "    <tr style=\"text-align: right;\">\n",
       "      <th></th>\n",
       "      <th>reviewText</th>\n",
       "      <th>overall</th>\n",
       "      <th>summary</th>\n",
       "      <th>reviewTime</th>\n",
       "    </tr>\n",
       "  </thead>\n",
       "  <tbody>\n",
       "    <tr>\n",
       "      <th>0</th>\n",
       "      <td>Not much to write about here, but it does exac...</td>\n",
       "      <td>5.0</td>\n",
       "      <td>good</td>\n",
       "      <td>02 28, 2014</td>\n",
       "    </tr>\n",
       "    <tr>\n",
       "      <th>1</th>\n",
       "      <td>The product does exactly as it should and is q...</td>\n",
       "      <td>5.0</td>\n",
       "      <td>Jake</td>\n",
       "      <td>03 16, 2013</td>\n",
       "    </tr>\n",
       "    <tr>\n",
       "      <th>2</th>\n",
       "      <td>The primary job of this device is to block the...</td>\n",
       "      <td>5.0</td>\n",
       "      <td>It Does The Job Well</td>\n",
       "      <td>08 28, 2013</td>\n",
       "    </tr>\n",
       "    <tr>\n",
       "      <th>3</th>\n",
       "      <td>Nice windscreen protects my MXL mic and preven...</td>\n",
       "      <td>5.0</td>\n",
       "      <td>GOOD WINDSCREEN FOR THE MONEY</td>\n",
       "      <td>02 14, 2014</td>\n",
       "    </tr>\n",
       "    <tr>\n",
       "      <th>4</th>\n",
       "      <td>This pop filter is great. It looks and perform...</td>\n",
       "      <td>5.0</td>\n",
       "      <td>No more pops when I record my vocals.</td>\n",
       "      <td>02 21, 2014</td>\n",
       "    </tr>\n",
       "    <tr>\n",
       "      <th>...</th>\n",
       "      <td>...</td>\n",
       "      <td>...</td>\n",
       "      <td>...</td>\n",
       "      <td>...</td>\n",
       "    </tr>\n",
       "    <tr>\n",
       "      <th>95</th>\n",
       "      <td>Bought this to hook up a Beta 58 to a Panasoni...</td>\n",
       "      <td>5.0</td>\n",
       "      <td>Does what it was intended for</td>\n",
       "      <td>12 6, 2011</td>\n",
       "    </tr>\n",
       "    <tr>\n",
       "      <th>96</th>\n",
       "      <td>Just received this cord and it seems to work a...</td>\n",
       "      <td>5.0</td>\n",
       "      <td>Works as expected</td>\n",
       "      <td>04 25, 2012</td>\n",
       "    </tr>\n",
       "    <tr>\n",
       "      <th>97</th>\n",
       "      <td>If you're like me, you probably bought this to...</td>\n",
       "      <td>4.0</td>\n",
       "      <td>Good for some uses</td>\n",
       "      <td>04 7, 2014</td>\n",
       "    </tr>\n",
       "    <tr>\n",
       "      <th>98</th>\n",
       "      <td>I bought this for my Canon Vixia HF G10 Video ...</td>\n",
       "      <td>2.0</td>\n",
       "      <td>Measure your damned wires before sending them...</td>\n",
       "      <td>09 16, 2013</td>\n",
       "    </tr>\n",
       "    <tr>\n",
       "      <th>99</th>\n",
       "      <td>Well made, XLR 3 pin adaptor to mini.  Needed ...</td>\n",
       "      <td>5.0</td>\n",
       "      <td>Recommend</td>\n",
       "      <td>05 26, 2013</td>\n",
       "    </tr>\n",
       "  </tbody>\n",
       "</table>\n",
       "<p>100 rows × 4 columns</p>\n",
       "</div>"
      ],
      "text/plain": [
       "                                           reviewText  overall  \\\n",
       "0   Not much to write about here, but it does exac...      5.0   \n",
       "1   The product does exactly as it should and is q...      5.0   \n",
       "2   The primary job of this device is to block the...      5.0   \n",
       "3   Nice windscreen protects my MXL mic and preven...      5.0   \n",
       "4   This pop filter is great. It looks and perform...      5.0   \n",
       "..                                                ...      ...   \n",
       "95  Bought this to hook up a Beta 58 to a Panasoni...      5.0   \n",
       "96  Just received this cord and it seems to work a...      5.0   \n",
       "97  If you're like me, you probably bought this to...      4.0   \n",
       "98  I bought this for my Canon Vixia HF G10 Video ...      2.0   \n",
       "99  Well made, XLR 3 pin adaptor to mini.  Needed ...      5.0   \n",
       "\n",
       "                                             summary   reviewTime  \n",
       "0                                               good  02 28, 2014  \n",
       "1                                               Jake  03 16, 2013  \n",
       "2                               It Does The Job Well  08 28, 2013  \n",
       "3                      GOOD WINDSCREEN FOR THE MONEY  02 14, 2014  \n",
       "4              No more pops when I record my vocals.  02 21, 2014  \n",
       "..                                               ...          ...  \n",
       "95                     Does what it was intended for   12 6, 2011  \n",
       "96                                 Works as expected  04 25, 2012  \n",
       "97                                Good for some uses   04 7, 2014  \n",
       "98  Measure your damned wires before sending them...  09 16, 2013  \n",
       "99                                         Recommend  05 26, 2013  \n",
       "\n",
       "[100 rows x 4 columns]"
      ]
     },
     "execution_count": 261,
     "metadata": {},
     "output_type": "execute_result"
    }
   ],
   "source": [
    "df = df.drop(columns=['reviewerID','asin', 'reviewerName', 'helpful', 'unixReviewTime'])\n",
    "df.head(100)"
   ]
  },
  {
   "cell_type": "code",
   "execution_count": 262,
   "metadata": {},
   "outputs": [
    {
     "data": {
      "text/plain": [
       "reviewText    7\n",
       "overall       0\n",
       "summary       0\n",
       "reviewTime    0\n",
       "dtype: int64"
      ]
     },
     "execution_count": 262,
     "metadata": {},
     "output_type": "execute_result"
    }
   ],
   "source": [
    "df.isna().sum()"
   ]
  },
  {
   "cell_type": "code",
   "execution_count": 263,
   "metadata": {},
   "outputs": [],
   "source": [
    "df=df.dropna()"
   ]
  },
  {
   "cell_type": "code",
   "execution_count": 264,
   "metadata": {},
   "outputs": [
    {
     "data": {
      "text/plain": [
       "reviewText    0\n",
       "overall       0\n",
       "summary       0\n",
       "reviewTime    0\n",
       "dtype: int64"
      ]
     },
     "execution_count": 264,
     "metadata": {},
     "output_type": "execute_result"
    }
   ],
   "source": [
    "df.isna().sum()"
   ]
  },
  {
   "cell_type": "code",
   "execution_count": 265,
   "metadata": {},
   "outputs": [],
   "source": [
    "#Cleaning Text - round 1#\n",
    "\n",
    "def clean_text_round1(text):\n",
    "    text = text.lower()\n",
    "    text = re.sub('\\[.*?\\]', '', text)\n",
    "    text = re.sub('[%s]' % re.escape(string.punctuation), '', text)\n",
    "    text = re.sub('\\w*\\d\\w*', '', text)\n",
    "    return text"
   ]
  },
  {
   "cell_type": "code",
   "execution_count": 266,
   "metadata": {},
   "outputs": [],
   "source": [
    "df.reviewText=df.reviewText.astype(str)"
   ]
  },
  {
   "cell_type": "code",
   "execution_count": 267,
   "metadata": {},
   "outputs": [
    {
     "data": {
      "text/html": [
       "<div>\n",
       "<style scoped>\n",
       "    .dataframe tbody tr th:only-of-type {\n",
       "        vertical-align: middle;\n",
       "    }\n",
       "\n",
       "    .dataframe tbody tr th {\n",
       "        vertical-align: top;\n",
       "    }\n",
       "\n",
       "    .dataframe thead th {\n",
       "        text-align: right;\n",
       "    }\n",
       "</style>\n",
       "<table border=\"1\" class=\"dataframe\">\n",
       "  <thead>\n",
       "    <tr style=\"text-align: right;\">\n",
       "      <th></th>\n",
       "      <th>reviewText</th>\n",
       "      <th>overall</th>\n",
       "      <th>summary</th>\n",
       "      <th>reviewTime</th>\n",
       "    </tr>\n",
       "  </thead>\n",
       "  <tbody>\n",
       "    <tr>\n",
       "      <th>0</th>\n",
       "      <td>not much to write about here but it does exact...</td>\n",
       "      <td>5.0</td>\n",
       "      <td>good</td>\n",
       "      <td>02 28, 2014</td>\n",
       "    </tr>\n",
       "    <tr>\n",
       "      <th>1</th>\n",
       "      <td>the product does exactly as it should and is q...</td>\n",
       "      <td>5.0</td>\n",
       "      <td>Jake</td>\n",
       "      <td>03 16, 2013</td>\n",
       "    </tr>\n",
       "    <tr>\n",
       "      <th>2</th>\n",
       "      <td>the primary job of this device is to block the...</td>\n",
       "      <td>5.0</td>\n",
       "      <td>It Does The Job Well</td>\n",
       "      <td>08 28, 2013</td>\n",
       "    </tr>\n",
       "    <tr>\n",
       "      <th>3</th>\n",
       "      <td>nice windscreen protects my mxl mic and preven...</td>\n",
       "      <td>5.0</td>\n",
       "      <td>GOOD WINDSCREEN FOR THE MONEY</td>\n",
       "      <td>02 14, 2014</td>\n",
       "    </tr>\n",
       "    <tr>\n",
       "      <th>4</th>\n",
       "      <td>this pop filter is great it looks and performs...</td>\n",
       "      <td>5.0</td>\n",
       "      <td>No more pops when I record my vocals.</td>\n",
       "      <td>02 21, 2014</td>\n",
       "    </tr>\n",
       "  </tbody>\n",
       "</table>\n",
       "</div>"
      ],
      "text/plain": [
       "                                          reviewText  overall  \\\n",
       "0  not much to write about here but it does exact...      5.0   \n",
       "1  the product does exactly as it should and is q...      5.0   \n",
       "2  the primary job of this device is to block the...      5.0   \n",
       "3  nice windscreen protects my mxl mic and preven...      5.0   \n",
       "4  this pop filter is great it looks and performs...      5.0   \n",
       "\n",
       "                                 summary   reviewTime  \n",
       "0                                   good  02 28, 2014  \n",
       "1                                   Jake  03 16, 2013  \n",
       "2                   It Does The Job Well  08 28, 2013  \n",
       "3          GOOD WINDSCREEN FOR THE MONEY  02 14, 2014  \n",
       "4  No more pops when I record my vocals.  02 21, 2014  "
      ]
     },
     "execution_count": 267,
     "metadata": {},
     "output_type": "execute_result"
    }
   ],
   "source": [
    "df['reviewText']=df['reviewText'].apply(lambda x:clean_text_round1(x))\n",
    "df.head()"
   ]
  },
  {
   "cell_type": "code",
   "execution_count": 268,
   "metadata": {},
   "outputs": [],
   "source": [
    "#Cleaning Text - round 2#\n",
    "\n",
    "def clean_text_round2(text):\n",
    "    text = re.sub('[‘’“”…]', '', text)\n",
    "    text = re.sub('\\n', '', text)\n",
    "    return text"
   ]
  },
  {
   "cell_type": "code",
   "execution_count": 269,
   "metadata": {},
   "outputs": [
    {
     "data": {
      "text/html": [
       "<div>\n",
       "<style scoped>\n",
       "    .dataframe tbody tr th:only-of-type {\n",
       "        vertical-align: middle;\n",
       "    }\n",
       "\n",
       "    .dataframe tbody tr th {\n",
       "        vertical-align: top;\n",
       "    }\n",
       "\n",
       "    .dataframe thead th {\n",
       "        text-align: right;\n",
       "    }\n",
       "</style>\n",
       "<table border=\"1\" class=\"dataframe\">\n",
       "  <thead>\n",
       "    <tr style=\"text-align: right;\">\n",
       "      <th></th>\n",
       "      <th>reviewText</th>\n",
       "      <th>overall</th>\n",
       "      <th>summary</th>\n",
       "      <th>reviewTime</th>\n",
       "    </tr>\n",
       "  </thead>\n",
       "  <tbody>\n",
       "    <tr>\n",
       "      <th>0</th>\n",
       "      <td>not much to write about here but it does exact...</td>\n",
       "      <td>5.0</td>\n",
       "      <td>good</td>\n",
       "      <td>02 28, 2014</td>\n",
       "    </tr>\n",
       "    <tr>\n",
       "      <th>1</th>\n",
       "      <td>the product does exactly as it should and is q...</td>\n",
       "      <td>5.0</td>\n",
       "      <td>Jake</td>\n",
       "      <td>03 16, 2013</td>\n",
       "    </tr>\n",
       "    <tr>\n",
       "      <th>2</th>\n",
       "      <td>the primary job of this device is to block the...</td>\n",
       "      <td>5.0</td>\n",
       "      <td>It Does The Job Well</td>\n",
       "      <td>08 28, 2013</td>\n",
       "    </tr>\n",
       "    <tr>\n",
       "      <th>3</th>\n",
       "      <td>nice windscreen protects my mxl mic and preven...</td>\n",
       "      <td>5.0</td>\n",
       "      <td>GOOD WINDSCREEN FOR THE MONEY</td>\n",
       "      <td>02 14, 2014</td>\n",
       "    </tr>\n",
       "    <tr>\n",
       "      <th>4</th>\n",
       "      <td>this pop filter is great it looks and performs...</td>\n",
       "      <td>5.0</td>\n",
       "      <td>No more pops when I record my vocals.</td>\n",
       "      <td>02 21, 2014</td>\n",
       "    </tr>\n",
       "  </tbody>\n",
       "</table>\n",
       "</div>"
      ],
      "text/plain": [
       "                                          reviewText  overall  \\\n",
       "0  not much to write about here but it does exact...      5.0   \n",
       "1  the product does exactly as it should and is q...      5.0   \n",
       "2  the primary job of this device is to block the...      5.0   \n",
       "3  nice windscreen protects my mxl mic and preven...      5.0   \n",
       "4  this pop filter is great it looks and performs...      5.0   \n",
       "\n",
       "                                 summary   reviewTime  \n",
       "0                                   good  02 28, 2014  \n",
       "1                                   Jake  03 16, 2013  \n",
       "2                   It Does The Job Well  08 28, 2013  \n",
       "3          GOOD WINDSCREEN FOR THE MONEY  02 14, 2014  \n",
       "4  No more pops when I record my vocals.  02 21, 2014  "
      ]
     },
     "execution_count": 269,
     "metadata": {},
     "output_type": "execute_result"
    }
   ],
   "source": [
    "df['reviewText']=df['reviewText'].apply(lambda x:clean_text_round2(x))\n",
    "df.head()"
   ]
  },
  {
   "cell_type": "code",
   "execution_count": 270,
   "metadata": {},
   "outputs": [
    {
     "data": {
      "image/png": "[encoded data removed]",
      "text/plain": [
       "<Figure size 432x288 with 1 Axes>"
      ]
     },
     "metadata": {
      "needs_background": "light"
     },
     "output_type": "display_data"
    }
   ],
   "source": [
    "#EDA Visualize Rating Distribution #\n",
    "sns.countplot(x='overall', data=df);\n",
    "plt.title('Distribution of Rating');"
   ]
  },
  {
   "cell_type": "code",
   "execution_count": 271,
   "metadata": {},
   "outputs": [],
   "source": [
    "import re\n",
    "import string\n",
    "\n",
    "import gensim\n",
    "from gensim import corpora\n",
    "\n",
    "# libraries for visualization\n",
    "import pyLDAvis\n",
    "import pyLDAvis.gensim\n",
    "import matplotlib.pyplot as plt\n",
    "import seaborn as sns\n",
    "%matplotlib inline"
   ]
  },
  {
   "cell_type": "code",
   "execution_count": 272,
   "metadata": {},
   "outputs": [
    {
     "name": "stdout",
     "output_type": "stream",
     "text": [
      "-------Dataset --------\n",
      "5.0    6932\n",
      "4.0    2083\n",
      "3.0     772\n",
      "2.0     250\n",
      "1.0     217\n",
      "Name: overall, dtype: int64\n",
      "10254\n",
      "-------------------------\n",
      "No of Short reviews\n"
     ]
    }
   ],
   "source": [
    "df['Num_words_text'] = df['reviewText'].apply(lambda x:len(str(x).split())) \n",
    "\n",
    "print('-------Dataset --------')\n",
    "print(df['overall'].value_counts())\n",
    "print(len(df))\n",
    "print('-------------------------')\n",
    "max_review_data_sentence_length  = df['Num_words_text'].max()\n",
    "\n",
    "\n",
    "print('No of Short reviews')"
   ]
  },
  {
   "cell_type": "code",
   "execution_count": 273,
   "metadata": {},
   "outputs": [
    {
     "data": {
      "text/html": [
       "<div>\n",
       "<style scoped>\n",
       "    .dataframe tbody tr th:only-of-type {\n",
       "        vertical-align: middle;\n",
       "    }\n",
       "\n",
       "    .dataframe tbody tr th {\n",
       "        vertical-align: top;\n",
       "    }\n",
       "\n",
       "    .dataframe thead th {\n",
       "        text-align: right;\n",
       "    }\n",
       "</style>\n",
       "<table border=\"1\" class=\"dataframe\">\n",
       "  <thead>\n",
       "    <tr style=\"text-align: right;\">\n",
       "      <th></th>\n",
       "      <th>reviewText</th>\n",
       "      <th>rating</th>\n",
       "      <th>summary</th>\n",
       "      <th>reviewTime</th>\n",
       "      <th>Num_words_text</th>\n",
       "      <th>text</th>\n",
       "    </tr>\n",
       "  </thead>\n",
       "  <tbody>\n",
       "    <tr>\n",
       "      <th>0</th>\n",
       "      <td>not much to write about here but it does exact...</td>\n",
       "      <td>5.0</td>\n",
       "      <td>good</td>\n",
       "      <td>02 28, 2014</td>\n",
       "      <td>51</td>\n",
       "      <td>not much to write about here but it does exact...</td>\n",
       "    </tr>\n",
       "    <tr>\n",
       "      <th>1</th>\n",
       "      <td>the product does exactly as it should and is q...</td>\n",
       "      <td>5.0</td>\n",
       "      <td>Jake</td>\n",
       "      <td>03 16, 2013</td>\n",
       "      <td>103</td>\n",
       "      <td>the product does exactly as it should and is q...</td>\n",
       "    </tr>\n",
       "    <tr>\n",
       "      <th>2</th>\n",
       "      <td>the primary job of this device is to block the...</td>\n",
       "      <td>5.0</td>\n",
       "      <td>It Does The Job Well</td>\n",
       "      <td>08 28, 2013</td>\n",
       "      <td>77</td>\n",
       "      <td>the primary job of this device is to block the...</td>\n",
       "    </tr>\n",
       "    <tr>\n",
       "      <th>3</th>\n",
       "      <td>nice windscreen protects my mxl mic and preven...</td>\n",
       "      <td>5.0</td>\n",
       "      <td>GOOD WINDSCREEN FOR THE MONEY</td>\n",
       "      <td>02 14, 2014</td>\n",
       "      <td>35</td>\n",
       "      <td>nice windscreen protects my mxl mic and preven...</td>\n",
       "    </tr>\n",
       "    <tr>\n",
       "      <th>4</th>\n",
       "      <td>this pop filter is great it looks and performs...</td>\n",
       "      <td>5.0</td>\n",
       "      <td>No more pops when I record my vocals.</td>\n",
       "      <td>02 21, 2014</td>\n",
       "      <td>28</td>\n",
       "      <td>this pop filter is great it looks and performs...</td>\n",
       "    </tr>\n",
       "  </tbody>\n",
       "</table>\n",
       "</div>"
      ],
      "text/plain": [
       "                                          reviewText  rating  \\\n",
       "0  not much to write about here but it does exact...     5.0   \n",
       "1  the product does exactly as it should and is q...     5.0   \n",
       "2  the primary job of this device is to block the...     5.0   \n",
       "3  nice windscreen protects my mxl mic and preven...     5.0   \n",
       "4  this pop filter is great it looks and performs...     5.0   \n",
       "\n",
       "                                 summary   reviewTime  Num_words_text  \\\n",
       "0                                   good  02 28, 2014              51   \n",
       "1                                   Jake  03 16, 2013             103   \n",
       "2                   It Does The Job Well  08 28, 2013              77   \n",
       "3          GOOD WINDSCREEN FOR THE MONEY  02 14, 2014              35   \n",
       "4  No more pops when I record my vocals.  02 21, 2014              28   \n",
       "\n",
       "                                                text  \n",
       "0  not much to write about here but it does exact...  \n",
       "1  the product does exactly as it should and is q...  \n",
       "2  the primary job of this device is to block the...  \n",
       "3  nice windscreen protects my mxl mic and preven...  \n",
       "4  this pop filter is great it looks and performs...  "
      ]
     },
     "execution_count": 273,
     "metadata": {},
     "output_type": "execute_result"
    }
   ],
   "source": [
    "df = df.rename(columns={'overall':'rating'})\n",
    "df['text'] = df['reviewText'] + ' ' + df['summary']\n",
    "df.head()"
   ]
  },
  {
   "cell_type": "code",
   "execution_count": 274,
   "metadata": {},
   "outputs": [],
   "source": [
    "# Personalizing Stopwords #\n",
    "stopword1 = nltk.corpus.stopwords.words('english')\n",
    "newStopWords = ['im','ive','theyre','hum']\n",
    "stopword1.extend(newStopWords)\n",
    "\n",
    "\n",
    "stop = set(stopword1)\n",
    "punctuation = list(string.punctuation)\n",
    "\n",
    "stop.update(punctuation)"
   ]
  },
  {
   "cell_type": "code",
   "execution_count": 275,
   "metadata": {},
   "outputs": [
    {
     "data": {
      "image/png": "[encoded data removed]",
      "text/plain": [
       "<Figure size 626.4x307.44 with 1 Axes>"
      ]
     },
     "metadata": {},
     "output_type": "display_data"
    }
   ],
   "source": [
    "#EDA Visualize Rating Distribution #\n",
    "sns.set(rc={'figure.figsize':(8.7,4.27)})\n",
    "sns.countplot(x='rating', data=df);\n",
    "\n",
    "plt.title('Distribution of Rating');\n",
    "plt.savefig('ratings.png')"
   ]
  },
  {
   "cell_type": "code",
   "execution_count": 276,
   "metadata": {},
   "outputs": [],
   "source": [
    "exclude_words = set((\"not\", \"no\",\"aren't\",\"couldn't\",\"didn't\",\"doesn't\",\"don't\",\"hasn't\",\"haven't\",\"mightn't\",\"mustn't\",\"needn't\",\"shouldn't\",\"weren't\"))\n",
    "\n",
    "stop = stop - exclude_words\n",
    "\n"
   ]
  },
  {
   "cell_type": "code",
   "execution_count": 277,
   "metadata": {},
   "outputs": [
    {
     "data": {
      "text/plain": [
       "{'!',\n",
       " '\"',\n",
       " '#',\n",
       " '$',\n",
       " '%',\n",
       " '&',\n",
       " \"'\",\n",
       " '(',\n",
       " ')',\n",
       " '*',\n",
       " '+',\n",
       " ',',\n",
       " '-',\n",
       " '.',\n",
       " '/',\n",
       " ':',\n",
       " ';',\n",
       " '<',\n",
       " '=',\n",
       " '>',\n",
       " '?',\n",
       " '@',\n",
       " '[',\n",
       " '\\\\',\n",
       " ']',\n",
       " '^',\n",
       " '_',\n",
       " '`',\n",
       " 'a',\n",
       " 'about',\n",
       " 'above',\n",
       " 'after',\n",
       " 'again',\n",
       " 'against',\n",
       " 'ain',\n",
       " 'all',\n",
       " 'am',\n",
       " 'an',\n",
       " 'and',\n",
       " 'any',\n",
       " 'are',\n",
       " 'aren',\n",
       " 'as',\n",
       " 'at',\n",
       " 'be',\n",
       " 'because',\n",
       " 'been',\n",
       " 'before',\n",
       " 'being',\n",
       " 'below',\n",
       " 'between',\n",
       " 'both',\n",
       " 'but',\n",
       " 'by',\n",
       " 'can',\n",
       " 'couldn',\n",
       " 'd',\n",
       " 'did',\n",
       " 'didn',\n",
       " 'do',\n",
       " 'does',\n",
       " 'doesn',\n",
       " 'doing',\n",
       " 'don',\n",
       " 'down',\n",
       " 'during',\n",
       " 'each',\n",
       " 'few',\n",
       " 'for',\n",
       " 'from',\n",
       " 'further',\n",
       " 'had',\n",
       " 'hadn',\n",
       " \"hadn't\",\n",
       " 'has',\n",
       " 'hasn',\n",
       " 'have',\n",
       " 'haven',\n",
       " 'having',\n",
       " 'he',\n",
       " 'her',\n",
       " 'here',\n",
       " 'hers',\n",
       " 'herself',\n",
       " 'him',\n",
       " 'himself',\n",
       " 'his',\n",
       " 'how',\n",
       " 'hum',\n",
       " 'i',\n",
       " 'if',\n",
       " 'im',\n",
       " 'in',\n",
       " 'into',\n",
       " 'is',\n",
       " 'isn',\n",
       " \"isn't\",\n",
       " 'it',\n",
       " \"it's\",\n",
       " 'its',\n",
       " 'itself',\n",
       " 'ive',\n",
       " 'just',\n",
       " 'll',\n",
       " 'm',\n",
       " 'ma',\n",
       " 'me',\n",
       " 'mightn',\n",
       " 'more',\n",
       " 'most',\n",
       " 'mustn',\n",
       " 'my',\n",
       " 'myself',\n",
       " 'needn',\n",
       " 'nor',\n",
       " 'now',\n",
       " 'o',\n",
       " 'of',\n",
       " 'off',\n",
       " 'on',\n",
       " 'once',\n",
       " 'only',\n",
       " 'or',\n",
       " 'other',\n",
       " 'our',\n",
       " 'ours',\n",
       " 'ourselves',\n",
       " 'out',\n",
       " 'over',\n",
       " 'own',\n",
       " 're',\n",
       " 's',\n",
       " 'same',\n",
       " 'shan',\n",
       " \"shan't\",\n",
       " 'she',\n",
       " \"she's\",\n",
       " 'should',\n",
       " \"should've\",\n",
       " 'shouldn',\n",
       " 'so',\n",
       " 'some',\n",
       " 'such',\n",
       " 't',\n",
       " 'than',\n",
       " 'that',\n",
       " \"that'll\",\n",
       " 'the',\n",
       " 'their',\n",
       " 'theirs',\n",
       " 'them',\n",
       " 'themselves',\n",
       " 'then',\n",
       " 'there',\n",
       " 'these',\n",
       " 'they',\n",
       " 'theyre',\n",
       " 'this',\n",
       " 'those',\n",
       " 'through',\n",
       " 'to',\n",
       " 'too',\n",
       " 'under',\n",
       " 'until',\n",
       " 'up',\n",
       " 've',\n",
       " 'very',\n",
       " 'was',\n",
       " 'wasn',\n",
       " \"wasn't\",\n",
       " 'we',\n",
       " 'were',\n",
       " 'weren',\n",
       " 'what',\n",
       " 'when',\n",
       " 'where',\n",
       " 'which',\n",
       " 'while',\n",
       " 'who',\n",
       " 'whom',\n",
       " 'why',\n",
       " 'will',\n",
       " 'with',\n",
       " 'won',\n",
       " \"won't\",\n",
       " 'wouldn',\n",
       " \"wouldn't\",\n",
       " 'y',\n",
       " 'you',\n",
       " \"you'd\",\n",
       " \"you'll\",\n",
       " \"you're\",\n",
       " \"you've\",\n",
       " 'your',\n",
       " 'yours',\n",
       " 'yourself',\n",
       " 'yourselves',\n",
       " '{',\n",
       " '|',\n",
       " '}',\n",
       " '~'}"
      ]
     },
     "execution_count": 277,
     "metadata": {},
     "output_type": "execute_result"
    }
   ],
   "source": [
    "stop"
   ]
  },
  {
   "cell_type": "code",
   "execution_count": 278,
   "metadata": {},
   "outputs": [],
   "source": [
    "# Pre-processing & Lemmatizing text #\n",
    "\n",
    "def get_pos(tag):\n",
    "    if tag.startswith('J'):\n",
    "        return wordnet.ADJ\n",
    "    elif tag.startswith('V'):\n",
    "        return wordnet.VERB\n",
    "    elif tag.startswith('N'):\n",
    "        return wordnet.NOUN\n",
    "    elif tag.startswith('R'):\n",
    "        return wordnet.ADV\n",
    "    else:\n",
    "        return wordnet.NOUN\n",
    "    \n",
    "    \n",
    "# Lemmatizing words that are not stopwords\n",
    "\n",
    "lemmatizer = WordNetLemmatizer()\n",
    "def lemmatization1(text):\n",
    "    final_text = []\n",
    "    for i in text.split():\n",
    "        if i.strip().lower() not in stop:\n",
    "            pos = pos_tag([i.strip()])\n",
    "            word = lemmatizer.lemmatize(i.strip(),get_pos(pos[0][1]))\n",
    "            final_text.append(word.lower())\n",
    "    return \" \".join(final_text)"
   ]
  },
  {
   "cell_type": "code",
   "execution_count": 279,
   "metadata": {},
   "outputs": [],
   "source": [
    "df['text'] = df['text'].apply(lambda x : lemmatization1(x))"
   ]
  },
  {
   "cell_type": "code",
   "execution_count": 280,
   "metadata": {},
   "outputs": [
    {
     "data": {
      "text/html": [
       "<div>\n",
       "<style scoped>\n",
       "    .dataframe tbody tr th:only-of-type {\n",
       "        vertical-align: middle;\n",
       "    }\n",
       "\n",
       "    .dataframe tbody tr th {\n",
       "        vertical-align: top;\n",
       "    }\n",
       "\n",
       "    .dataframe thead th {\n",
       "        text-align: right;\n",
       "    }\n",
       "</style>\n",
       "<table border=\"1\" class=\"dataframe\">\n",
       "  <thead>\n",
       "    <tr style=\"text-align: right;\">\n",
       "      <th></th>\n",
       "      <th>reviewText</th>\n",
       "      <th>rating</th>\n",
       "      <th>summary</th>\n",
       "      <th>reviewTime</th>\n",
       "      <th>Num_words_text</th>\n",
       "      <th>text</th>\n",
       "    </tr>\n",
       "  </thead>\n",
       "  <tbody>\n",
       "    <tr>\n",
       "      <th>0</th>\n",
       "      <td>not much to write about here but it does exact...</td>\n",
       "      <td>5.0</td>\n",
       "      <td>good</td>\n",
       "      <td>02 28, 2014</td>\n",
       "      <td>51</td>\n",
       "      <td>not much write exactly suppose filter pop soun...</td>\n",
       "    </tr>\n",
       "    <tr>\n",
       "      <th>1</th>\n",
       "      <td>the product does exactly as it should and is q...</td>\n",
       "      <td>5.0</td>\n",
       "      <td>Jake</td>\n",
       "      <td>03 16, 2013</td>\n",
       "      <td>103</td>\n",
       "      <td>product exactly quite affordablei not realize ...</td>\n",
       "    </tr>\n",
       "    <tr>\n",
       "      <th>2</th>\n",
       "      <td>the primary job of this device is to block the...</td>\n",
       "      <td>5.0</td>\n",
       "      <td>It Does The Job Well</td>\n",
       "      <td>08 28, 2013</td>\n",
       "      <td>77</td>\n",
       "      <td>primary job device block breath would otherwis...</td>\n",
       "    </tr>\n",
       "    <tr>\n",
       "      <th>3</th>\n",
       "      <td>nice windscreen protects my mxl mic and preven...</td>\n",
       "      <td>5.0</td>\n",
       "      <td>GOOD WINDSCREEN FOR THE MONEY</td>\n",
       "      <td>02 14, 2014</td>\n",
       "      <td>35</td>\n",
       "      <td>nice windscreen protects mxl mic prevents pop ...</td>\n",
       "    </tr>\n",
       "    <tr>\n",
       "      <th>4</th>\n",
       "      <td>this pop filter is great it looks and performs...</td>\n",
       "      <td>5.0</td>\n",
       "      <td>No more pops when I record my vocals.</td>\n",
       "      <td>02 21, 2014</td>\n",
       "      <td>28</td>\n",
       "      <td>pop filter great look performs like studio fil...</td>\n",
       "    </tr>\n",
       "  </tbody>\n",
       "</table>\n",
       "</div>"
      ],
      "text/plain": [
       "                                          reviewText  rating  \\\n",
       "0  not much to write about here but it does exact...     5.0   \n",
       "1  the product does exactly as it should and is q...     5.0   \n",
       "2  the primary job of this device is to block the...     5.0   \n",
       "3  nice windscreen protects my mxl mic and preven...     5.0   \n",
       "4  this pop filter is great it looks and performs...     5.0   \n",
       "\n",
       "                                 summary   reviewTime  Num_words_text  \\\n",
       "0                                   good  02 28, 2014              51   \n",
       "1                                   Jake  03 16, 2013             103   \n",
       "2                   It Does The Job Well  08 28, 2013              77   \n",
       "3          GOOD WINDSCREEN FOR THE MONEY  02 14, 2014              35   \n",
       "4  No more pops when I record my vocals.  02 21, 2014              28   \n",
       "\n",
       "                                                text  \n",
       "0  not much write exactly suppose filter pop soun...  \n",
       "1  product exactly quite affordablei not realize ...  \n",
       "2  primary job device block breath would otherwis...  \n",
       "3  nice windscreen protects mxl mic prevents pop ...  \n",
       "4  pop filter great look performs like studio fil...  "
      ]
     },
     "execution_count": 280,
     "metadata": {},
     "output_type": "execute_result"
    }
   ],
   "source": [
    "df.head()"
   ]
  },
  {
   "cell_type": "code",
   "execution_count": 281,
   "metadata": {},
   "outputs": [
    {
     "data": {
      "text/plain": [
       "array(['not much write exactly suppose filter pop sound recording much crisp one low price pop filter amazon might well buy honestly work despite pricing good',\n",
       "       'product exactly quite affordablei not realize double screen arrive even well expectedas add bonus one screen carry small hint smell old grape candy use buy reminiscents sake cannot stop put pop filter next nose smell record dif need pop filter work well expensive one may even come please aroma like mine didbuy product jake',\n",
       "       'primary job device block breath would otherwise produce pop sound allow voice pas no noticeable reduction volume high frequency double cloth filter block pop let voice no coloration metal clamp mount attache mike stand secure enough keep attach goose neck need little coax stay put job well',\n",
       "       'nice windscreen protects mxl mic prevents pop thing gooseneck marginally able hold screen position require careful position clamp avoid sag good windscreen money',\n",
       "       'pop filter great look performs like studio filter youre record vocal eliminate pop get record sing no pop record vocals.'],\n",
       "      dtype=object)"
      ]
     },
     "execution_count": 281,
     "metadata": {},
     "output_type": "execute_result"
    }
   ],
   "source": [
    "df[\"text\"].head().values"
   ]
  },
  {
   "cell_type": "code",
   "execution_count": 282,
   "metadata": {},
   "outputs": [],
   "source": [
    "df = df.drop(columns=['reviewText','summary', 'reviewTime', 'Num_words_text'])"
   ]
  },
  {
   "cell_type": "markdown",
   "metadata": {},
   "source": [
    "# Spliting Data to two groups: Bad Reviews vs. Good Reviews"
   ]
  },
  {
   "cell_type": "code",
   "execution_count": 283,
   "metadata": {},
   "outputs": [
    {
     "data": {
      "text/html": [
       "<div>\n",
       "<style scoped>\n",
       "    .dataframe tbody tr th:only-of-type {\n",
       "        vertical-align: middle;\n",
       "    }\n",
       "\n",
       "    .dataframe tbody tr th {\n",
       "        vertical-align: top;\n",
       "    }\n",
       "\n",
       "    .dataframe thead th {\n",
       "        text-align: right;\n",
       "    }\n",
       "</style>\n",
       "<table border=\"1\" class=\"dataframe\">\n",
       "  <thead>\n",
       "    <tr style=\"text-align: right;\">\n",
       "      <th></th>\n",
       "      <th>rating</th>\n",
       "      <th>text</th>\n",
       "    </tr>\n",
       "  </thead>\n",
       "  <tbody>\n",
       "    <tr>\n",
       "      <th>15</th>\n",
       "      <td>2.0</td>\n",
       "      <td>bought use keyboard wasnt really aware option ...</td>\n",
       "    </tr>\n",
       "    <tr>\n",
       "      <th>50</th>\n",
       "      <td>2.0</td>\n",
       "      <td>didnt expect cable thin easily thickness guita...</td>\n",
       "    </tr>\n",
       "    <tr>\n",
       "      <th>52</th>\n",
       "      <td>1.0</td>\n",
       "      <td>hum crackle think problem equipment soon use c...</td>\n",
       "    </tr>\n",
       "    <tr>\n",
       "      <th>89</th>\n",
       "      <td>1.0</td>\n",
       "      <td>procheapo hat thing noisy cable feel really ch...</td>\n",
       "    </tr>\n",
       "    <tr>\n",
       "      <th>98</th>\n",
       "      <td>2.0</td>\n",
       "      <td>bought canon vixia hf video camera shotgun mic...</td>\n",
       "    </tr>\n",
       "    <tr>\n",
       "      <th>...</th>\n",
       "      <td>...</td>\n",
       "      <td>...</td>\n",
       "    </tr>\n",
       "    <tr>\n",
       "      <th>10171</th>\n",
       "      <td>1.0</td>\n",
       "      <td>really want like frickin lintcatching sticky f...</td>\n",
       "    </tr>\n",
       "    <tr>\n",
       "      <th>10178</th>\n",
       "      <td>2.0</td>\n",
       "      <td>large one sometimes neck snap thought might an...</td>\n",
       "    </tr>\n",
       "    <tr>\n",
       "      <th>10187</th>\n",
       "      <td>2.0</td>\n",
       "      <td>tension screw adjustment remains best capo eve...</td>\n",
       "    </tr>\n",
       "    <tr>\n",
       "      <th>10189</th>\n",
       "      <td>2.0</td>\n",
       "      <td>fan planet wave n capo new one not well design...</td>\n",
       "    </tr>\n",
       "    <tr>\n",
       "      <th>10247</th>\n",
       "      <td>2.0</td>\n",
       "      <td>look forward try love company product since da...</td>\n",
       "    </tr>\n",
       "  </tbody>\n",
       "</table>\n",
       "<p>467 rows × 2 columns</p>\n",
       "</div>"
      ],
      "text/plain": [
       "       rating                                               text\n",
       "15        2.0  bought use keyboard wasnt really aware option ...\n",
       "50        2.0  didnt expect cable thin easily thickness guita...\n",
       "52        1.0  hum crackle think problem equipment soon use c...\n",
       "89        1.0  procheapo hat thing noisy cable feel really ch...\n",
       "98        2.0  bought canon vixia hf video camera shotgun mic...\n",
       "...       ...                                                ...\n",
       "10171     1.0  really want like frickin lintcatching sticky f...\n",
       "10178     2.0  large one sometimes neck snap thought might an...\n",
       "10187     2.0  tension screw adjustment remains best capo eve...\n",
       "10189     2.0  fan planet wave n capo new one not well design...\n",
       "10247     2.0  look forward try love company product since da...\n",
       "\n",
       "[467 rows x 2 columns]"
      ]
     },
     "execution_count": 283,
     "metadata": {},
     "output_type": "execute_result"
    }
   ],
   "source": [
    "df_bad=df[(df.rating == 1.0) | (df.rating== 2.0) ]\n",
    "df_bad"
   ]
  },
  {
   "cell_type": "code",
   "execution_count": 284,
   "metadata": {},
   "outputs": [
    {
     "data": {
      "text/html": [
       "<div>\n",
       "<style scoped>\n",
       "    .dataframe tbody tr th:only-of-type {\n",
       "        vertical-align: middle;\n",
       "    }\n",
       "\n",
       "    .dataframe tbody tr th {\n",
       "        vertical-align: top;\n",
       "    }\n",
       "\n",
       "    .dataframe thead th {\n",
       "        text-align: right;\n",
       "    }\n",
       "</style>\n",
       "<table border=\"1\" class=\"dataframe\">\n",
       "  <thead>\n",
       "    <tr style=\"text-align: right;\">\n",
       "      <th></th>\n",
       "      <th>rating</th>\n",
       "      <th>text</th>\n",
       "    </tr>\n",
       "  </thead>\n",
       "  <tbody>\n",
       "    <tr>\n",
       "      <th>0</th>\n",
       "      <td>5.0</td>\n",
       "      <td>not much write exactly suppose filter pop soun...</td>\n",
       "    </tr>\n",
       "    <tr>\n",
       "      <th>1</th>\n",
       "      <td>5.0</td>\n",
       "      <td>product exactly quite affordablei not realize ...</td>\n",
       "    </tr>\n",
       "    <tr>\n",
       "      <th>2</th>\n",
       "      <td>5.0</td>\n",
       "      <td>primary job device block breath would otherwis...</td>\n",
       "    </tr>\n",
       "    <tr>\n",
       "      <th>3</th>\n",
       "      <td>5.0</td>\n",
       "      <td>nice windscreen protects mxl mic prevents pop ...</td>\n",
       "    </tr>\n",
       "    <tr>\n",
       "      <th>4</th>\n",
       "      <td>5.0</td>\n",
       "      <td>pop filter great look performs like studio fil...</td>\n",
       "    </tr>\n",
       "    <tr>\n",
       "      <th>...</th>\n",
       "      <td>...</td>\n",
       "      <td>...</td>\n",
       "    </tr>\n",
       "    <tr>\n",
       "      <th>10256</th>\n",
       "      <td>5.0</td>\n",
       "      <td>great expect thank five stars</td>\n",
       "    </tr>\n",
       "    <tr>\n",
       "      <th>10257</th>\n",
       "      <td>5.0</td>\n",
       "      <td>think try nanoweb string bit put high price co...</td>\n",
       "    </tr>\n",
       "    <tr>\n",
       "      <th>10258</th>\n",
       "      <td>4.0</td>\n",
       "      <td>try coat string past include elixir never fond...</td>\n",
       "    </tr>\n",
       "    <tr>\n",
       "      <th>10259</th>\n",
       "      <td>4.0</td>\n",
       "      <td>well make elixir developed taylor guitar strin...</td>\n",
       "    </tr>\n",
       "    <tr>\n",
       "      <th>10260</th>\n",
       "      <td>4.0</td>\n",
       "      <td>string really quite good wouldnt call perfect ...</td>\n",
       "    </tr>\n",
       "  </tbody>\n",
       "</table>\n",
       "<p>9787 rows × 2 columns</p>\n",
       "</div>"
      ],
      "text/plain": [
       "       rating                                               text\n",
       "0         5.0  not much write exactly suppose filter pop soun...\n",
       "1         5.0  product exactly quite affordablei not realize ...\n",
       "2         5.0  primary job device block breath would otherwis...\n",
       "3         5.0  nice windscreen protects mxl mic prevents pop ...\n",
       "4         5.0  pop filter great look performs like studio fil...\n",
       "...       ...                                                ...\n",
       "10256     5.0                      great expect thank five stars\n",
       "10257     5.0  think try nanoweb string bit put high price co...\n",
       "10258     4.0  try coat string past include elixir never fond...\n",
       "10259     4.0  well make elixir developed taylor guitar strin...\n",
       "10260     4.0  string really quite good wouldnt call perfect ...\n",
       "\n",
       "[9787 rows x 2 columns]"
      ]
     },
     "execution_count": 284,
     "metadata": {},
     "output_type": "execute_result"
    }
   ],
   "source": [
    "df_good=df[(df.rating == 3.0) |(df.rating == 4.0) | (df.rating== 5.0) ]\n",
    "df_good"
   ]
  },
  {
   "cell_type": "code",
   "execution_count": 285,
   "metadata": {},
   "outputs": [
    {
     "data": {
      "text/html": [
       "<div>\n",
       "<style scoped>\n",
       "    .dataframe tbody tr th:only-of-type {\n",
       "        vertical-align: middle;\n",
       "    }\n",
       "\n",
       "    .dataframe tbody tr th {\n",
       "        vertical-align: top;\n",
       "    }\n",
       "\n",
       "    .dataframe thead th {\n",
       "        text-align: right;\n",
       "    }\n",
       "</style>\n",
       "<table border=\"1\" class=\"dataframe\">\n",
       "  <thead>\n",
       "    <tr style=\"text-align: right;\">\n",
       "      <th></th>\n",
       "      <th>rating</th>\n",
       "      <th>text</th>\n",
       "    </tr>\n",
       "  </thead>\n",
       "  <tbody>\n",
       "    <tr>\n",
       "      <th>0</th>\n",
       "      <td>5.0</td>\n",
       "      <td>not much write exactly suppose filter pop soun...</td>\n",
       "    </tr>\n",
       "    <tr>\n",
       "      <th>1</th>\n",
       "      <td>5.0</td>\n",
       "      <td>product exactly quite affordablei not realize ...</td>\n",
       "    </tr>\n",
       "    <tr>\n",
       "      <th>2</th>\n",
       "      <td>5.0</td>\n",
       "      <td>primary job device block breath would otherwis...</td>\n",
       "    </tr>\n",
       "    <tr>\n",
       "      <th>3</th>\n",
       "      <td>5.0</td>\n",
       "      <td>nice windscreen protects mxl mic prevents pop ...</td>\n",
       "    </tr>\n",
       "    <tr>\n",
       "      <th>4</th>\n",
       "      <td>5.0</td>\n",
       "      <td>pop filter great look performs like studio fil...</td>\n",
       "    </tr>\n",
       "  </tbody>\n",
       "</table>\n",
       "</div>"
      ],
      "text/plain": [
       "   rating                                               text\n",
       "0     5.0  not much write exactly suppose filter pop soun...\n",
       "1     5.0  product exactly quite affordablei not realize ...\n",
       "2     5.0  primary job device block breath would otherwis...\n",
       "3     5.0  nice windscreen protects mxl mic prevents pop ...\n",
       "4     5.0  pop filter great look performs like studio fil..."
      ]
     },
     "execution_count": 285,
     "metadata": {},
     "output_type": "execute_result"
    }
   ],
   "source": [
    "df.head()"
   ]
  },
  {
   "cell_type": "markdown",
   "metadata": {},
   "source": [
    "# Bad Review -LDA"
   ]
  },
  {
   "cell_type": "code",
   "execution_count": 286,
   "metadata": {},
   "outputs": [],
   "source": [
    "def lemmatization2(texts): \n",
    "    output = []\n",
    "    for sent in texts:\n",
    "             doc = nlp(sent) \n",
    "             output.append([token.lemma_ for token in doc ])\n",
    "    return output"
   ]
  },
  {
   "cell_type": "code",
   "execution_count": 287,
   "metadata": {},
   "outputs": [
    {
     "name": "stdout",
     "output_type": "stream",
     "text": [
      "didnt expect cable thin easily thickness guitar cable use not sure longterm durability signal lossinterference foresight id spend couple extra buck thicker cable still work inexpensiveedit month later dead already wire frayed right angle jack get pay cannot recommend\n",
      "['do', 'not', 'expect', 'cable', 'thin', 'easily', 'thickness', 'guitar', 'cable', 'use', 'not', 'sure', 'longterm', 'durability', 'signal', 'lossinterference', 'foresight', '-PRON-', 'd', 'spend', 'couple', 'extra', 'buck', 'thicker', 'cable', 'still', 'work', 'inexpensiveedit', 'month', 'later', 'dead', 'already', 'wire', 'fray', 'right', 'angle', 'jack', 'get', 'pay', 'can', 'not', 'recommend']\n"
     ]
    }
   ],
   "source": [
    "text_list=df_bad['text'].tolist()\n",
    "print(text_list[1])\n",
    "tokenized_reviews_bad = lemmatization2(text_list)\n",
    "print(tokenized_reviews_bad[1])"
   ]
  },
  {
   "cell_type": "code",
   "execution_count": 288,
   "metadata": {},
   "outputs": [],
   "source": [
    "dictionary = corpora.Dictionary(tokenized_reviews_bad)\n",
    "doc_term_matrix = [dictionary.doc2bow(rev) for rev in tokenized_reviews_bad]\n",
    "\n",
    "# Creating the object for LDA model using gensim library\n",
    "LDA = gensim.models.ldamodel.LdaModel\n",
    "\n",
    "\n",
    "# Build LDA model\n",
    "lda_model = LDA(corpus=doc_term_matrix, id2word=dictionary, num_topics=5, random_state=100,\n",
    "                chunksize=100, passes=50,iterations=100) "
   ]
  },
  {
   "cell_type": "code",
   "execution_count": 289,
   "metadata": {},
   "outputs": [
    {
     "data": {
      "text/plain": [
       "[(0,\n",
       "  '0.007*\"hole\" + 0.007*\"cable\" + 0.007*\"mount\" + 0.006*\"midi\" + 0.006*\"receive\" + 0.006*\"weld\" + 0.005*\"send\" + 0.005*\"lock\" + 0.005*\"long\" + 0.005*\"back\"'),\n",
       " (1,\n",
       "  '0.032*\"not\" + 0.025*\"pedal\" + 0.021*\"sound\" + 0.018*\"amp\" + 0.016*\"get\" + 0.011*\"work\" + 0.010*\"use\" + 0.010*\"record\" + 0.009*\"like\" + 0.009*\"want\"'),\n",
       " (2,\n",
       "  '0.039*\"not\" + 0.013*\"one\" + 0.013*\"do\" + 0.012*\"guitar\" + 0.011*\"string\" + 0.010*\"get\" + 0.010*\"use\" + 0.009*\"well\" + 0.009*\"like\" + 0.009*\"work\"'),\n",
       " (3,\n",
       "  '0.039*\"not\" + 0.016*\"stand\" + 0.015*\"guitar\" + 0.012*\"do\" + 0.012*\"use\" + 0.011*\"get\" + 0.011*\"mic\" + 0.011*\"one\" + 0.011*\"well\" + 0.010*\"would\"'),\n",
       " (4,\n",
       "  '0.015*\"battery\" + 0.010*\"software\" + 0.009*\"interface\" + 0.008*\"use\" + 0.008*\"pitch\" + 0.007*\"function\" + 0.005*\"manual\" + 0.005*\"focusrite\" + 0.005*\"driver\" + 0.005*\"user\"')]"
      ]
     },
     "execution_count": 289,
     "metadata": {},
     "output_type": "execute_result"
    }
   ],
   "source": [
    "lda_model.print_topics()"
   ]
  },
  {
   "cell_type": "code",
   "execution_count": 290,
   "metadata": {},
   "outputs": [
    {
     "data": {
      "text/html": [
       "\n",
       "<link rel=\"stylesheet\" type=\"text/css\" href=\"https://cdn.jsdelivr.net/gh/bmabey/pyLDAvis@3.2.2/pyLDAvis/js/ldavis.v1.0.0.css\">\n",
       "\n",
       "\n",
       "<div id=\"ldavis_el19905140505880175104374144625\"></div>\n",
       "<script type=\"text/javascript\">\n",
       "\n",
       "var ldavis_el19905140505880175104374144625_data = {\"mdsDat\": {\"x\": [-0.1770471698288724, -0.13337374162201326, -0.09718893657299502, 0.22751396903268778, 0.1800958789911927], \"y\": [0.05075584454451091, 0.12085733390631725, -0.19442032256078448, 0.04433743301267324, -0.021530288902716934], \"topics\": [1, 2, 3, 4, 5], \"cluster\": [1, 1, 1, 1, 1], \"Freq\": [45.23393172806082, 23.15952931422698, 20.83776439389369, 5.964341408269207, 4.804433155549306]}, \"tinfo\": {\"Term\": [\"pedal\", \"sound\", \"amp\", \"not\", \"stand\", \"mic\", \"string\", \"cable\", \"record\", \"battery\", \"well\", \"effect\", \"get\", \"want\", \"volume\", \"back\", \"use\", \"product\", \"noise\", \"guitar\", \"software\", \"receive\", \"long\", \"send\", \"mount\", \"lock\", \"play\", \"line\", \"interface\", \"distortion\", \"string\", \"break\", \"tuner\", \"tone\", \"instrument\", \"tune\", \"big\", \"brand\", \"fender\", \"note\", \"love\", \"since\", \"have\", \"month\", \"fret\", \"ball\", \"kind\", \"quite\", \"side\", \"fail\", \"short\", \"cover\", \"actually\", \"planet\", \"wave\", \"definitely\", \"cord\", \"especially\", \"crap\", \"supply\", \"capo\", \"set\", \"end\", \"low\", \"screw\", \"be\", \"strap\", \"much\", \"right\", \"not\", \"first\", \"look\", \"one\", \"say\", \"do\", \"great\", \"well\", \"way\", \"guitar\", \"would\", \"like\", \"come\", \"play\", \"try\", \"work\", \"-PRON-\", \"get\", \"use\", \"buy\", \"good\", \"sound\", \"make\", \"really\", \"even\", \"price\", \"stand\", \"mic\", \"size\", \"mixer\", \"uke\", \"clip\", \"bag\", \"home\", \"strat\", \"arrive\", \"microphone\", \"computer\", \"large\", \"dollar\", \"ipad\", \"handle\", \"boom\", \"pad\", \"paul\", \"description\", \"totally\", \"pop\", \"le\", \"ukulele\", \"attach\", \"call\", \"holder\", \"cheaply\", \"martin\", \"tight\", \"hand\", \"gig\", \"waste\", \"amazon\", \"case\", \"fit\", \"back\", \"hold\", \"not\", \"product\", \"guitar\", \"small\", \"well\", \"!\", \"use\", \"would\", \"do\", \"no\", \"one\", \"get\", \"cheap\", \"buy\", \"ok\", \"go\", \"money\", \".\", \"-PRON-\", \"something\", \"make\", \"price\", \"good\", \"time\", \"work\", \"may\", \"like\", \"amp\", \"effect\", \"line\", \"bos\", \"control\", \"board\", \"signal\", \"input\", \"gain\", \"speaker\", \"volume\", \"audio\", \"refund\", \"setup\", \"idea\", \"recorder\", \"least\", \"screen\", \"noise\", \"connect\", \"pickup\", \"update\", \"together\", \"distortion\", \"buzz\", \"channel\", \"joyo\", \"adjust\", \"velcro\", \"mute\", \"stop\", \"pedal\", \"record\", \"clean\", \"level\", \"sound\", \"issue\", \"power\", \"want\", \"plug\", \"turn\", \"not\", \"get\", \"unit\", \"work\", \"like\", \"use\", \"go\", \"problem\", \"do\", \"play\", \"no\", \"good\", \"one\", \"cable\", \"guitar\", \"need\", \"also\", \"battery\", \"interface\", \"manual\", \"focusrite\", \"user\", \"display\", \"looper\", \"correction\", \"multitrack\", \"chorus\", \"tc\", \"desktop\", \"reaper\", \"linux\", \"pocket\", \"program\", \"enable\", \"attack\", \"software\", \"guide\", \"copy\", \"fresh\", \"nut\", \"express\", \"fbv\", \"pod\", \"korg\", \"octave\", \"cloth\", \"daw\", \"pitch\", \"driver\", \"function\", \"constantly\", \"mode\", \"track\", \"delay\", \"ableton\", \"usb\", \"buck\", \"tascam\", \"drop\", \"device\", \"use\", \"could\", \"save\", \"money\", \"switch\", \"want\", \"almost\", \"weld\", \"email\", \"dry\", \"drum\", \"leg\", \")\", \"roll\", \"upon\", \"pyle\", \"unscrew\", \"yeti\", \"blink\", \"#\", \"foam\", \"height\", \"crooked\", \"hde\", \"intonation\", \"seagull\", \"transmitter\", \"onoff\", \"assemble\", \"lab\", \"voodoo\", \"dice\", \"length\", \"american\", \"shock\", \"(\", \"dreadnought\", \"midi\", \"ago\", \"hole\", \"ask\", \"mount\", \"extremely\", \"receive\", \"body\", \"lock\", \"send\", \"base\", \"cable\", \"long\", \"bottom\", \"top\", \"back\", \"poor\", \"black\", \"design\", \"try\", \"return\"], \"Freq\": [171.0, 227.0, 103.0, 931.0, 102.0, 74.0, 141.0, 76.0, 64.0, 25.0, 194.0, 44.0, 292.0, 88.0, 43.0, 92.0, 272.0, 103.0, 39.0, 281.0, 20.0, 28.0, 37.0, 33.0, 24.0, 23.0, 104.0, 31.0, 16.0, 32.0, 141.302716814933, 60.16132859256023, 58.13627065382817, 55.717337757848576, 51.26951677235194, 45.470145925218624, 40.94629411118245, 36.69331453093793, 36.064612211653376, 31.981855392171877, 31.911806254911614, 31.271070489334626, 30.032580139588564, 27.21020858668797, 26.06933161483611, 24.165019763464823, 23.490630051051564, 23.50350572181157, 23.267831756323606, 22.28772186048436, 22.386498588293055, 20.799935987656816, 21.189650910705737, 19.68932654883744, 19.68932654883744, 19.857899892532235, 19.683749183689045, 19.50740898316237, 18.62786681932891, 18.376367207952722, 41.41192308988113, 46.24921669468037, 60.47623004444563, 56.23639909159099, 37.733819365374394, 69.600244755993, 51.12227783562101, 70.6214820636148, 34.50243908871002, 494.85678927508224, 54.68824163474418, 65.32841803133705, 168.66550085941512, 59.55983727591801, 166.70658892410222, 75.30813280194587, 118.98768615451111, 64.80369905108451, 151.82095312136704, 109.69676795159289, 114.19893503999583, 56.40413167047933, 70.04924235586392, 80.88441196246563, 110.19868118647025, 75.4200946486725, 128.86002825296188, 120.25564122367238, 89.32299900419275, 87.6418897736803, 105.60264037196849, 74.76774873852857, 68.54080519747777, 59.42279845110987, 58.53185049526658, 101.59310569767148, 73.54557660759413, 26.90153014182897, 24.531792586398883, 21.96967512092465, 21.39083444807112, 17.261048654019113, 16.789845669316616, 16.052255324753126, 15.897130245396962, 15.154985619224394, 16.136076825454516, 15.200639041432371, 14.925093794003663, 13.795563199798211, 13.831345773385788, 12.944118804362274, 13.247107820948937, 12.942940998681948, 12.523568937300102, 13.04555956059626, 12.049981195030398, 11.428680477933383, 10.714682119230643, 9.937336348924365, 10.659679490765763, 9.834610170247384, 9.251524613977452, 9.077296811908838, 9.182268743167914, 17.78826765836829, 19.60364287042036, 18.481921964894738, 28.19902060901617, 24.091037672145532, 35.56494558926799, 50.78981484375083, 29.36292878018546, 248.83932271044827, 52.083613458107564, 96.7520732457511, 27.58428376710336, 70.52119881145977, 27.341835158227273, 78.73065387105954, 61.40451052772078, 79.5738431639924, 49.972623967066205, 72.44148840969643, 73.55029380902447, 41.56791622772991, 50.33580961559381, 24.193656234059844, 39.734222251187894, 26.464955839869873, 32.29515972328414, 37.006232976863146, 28.580196193036674, 35.186753381057045, 31.144661796485266, 35.77316309955165, 31.59098737288402, 34.488132261997954, 28.45072127012731, 30.040346407644158, 102.40254733466716, 44.200288829105524, 31.238252726348655, 26.494144833829438, 25.736508146539204, 24.776874637092998, 20.726574899799417, 19.06000899585366, 16.724014095362207, 16.233609459113996, 41.49011122927443, 14.530252919466182, 15.19444782038179, 14.507679873435583, 16.844450743397378, 14.154459108470622, 14.339287774199631, 13.225302237043207, 37.91875275948526, 12.23267052500821, 26.999993548755956, 13.537672311139804, 12.202372749969582, 30.33952676856916, 11.082085991057044, 10.750736268546396, 10.472065728197656, 10.507340063071625, 10.099304518858277, 9.97226675098747, 20.24269943474445, 146.8278834481845, 56.91329118042634, 23.95000587296897, 14.087398939253116, 121.2503051457802, 27.745927486772537, 26.7775821398413, 52.42046291285353, 31.213263012834172, 22.403813409839827, 187.68556745562196, 89.76657978958553, 26.61084149729439, 65.27161472658359, 53.349119505870256, 60.053081520600536, 41.05461349343357, 30.814288290642338, 48.85578558054901, 33.75824384005241, 36.15122609982576, 35.38879104326313, 38.88399691820401, 29.224941435253687, 32.59809282633129, 28.217821821825325, 27.73969821365882, 24.940279220722097, 15.603473907823986, 8.959285806985934, 8.794962862023434, 8.019300914891526, 7.397323255748285, 7.088620517202338, 5.63734149379691, 5.629118263862328, 5.5611583475860344, 5.168357560712708, 4.868850381774834, 4.533318503912759, 4.533017489738305, 4.366003508850483, 4.06664144799927, 3.952024719611343, 3.946135696778914, 17.275446746751758, 3.6041297045944236, 3.5178560397529646, 3.440653987506568, 3.5908789220606936, 3.3131325274069483, 3.3131325274069483, 3.3131325274069483, 3.2863168605922324, 3.2711191091398524, 3.0512740612065987, 2.9643966358374803, 12.613231432809302, 8.70192715625791, 12.102990851108867, 5.662577798517276, 5.272610856084262, 7.424036531552253, 7.638487959776506, 4.535056071666571, 5.4341168934653705, 6.888462258192659, 6.319582806551461, 6.915964637650884, 6.315383620324977, 12.882217237186346, 7.457091891164777, 5.407360890585489, 5.825829102224434, 5.1514118484339955, 5.518966322443048, 5.165377443399899, 7.611799255473744, 5.768702423134132, 5.607099481530833, 5.348104769786143, 5.4478412898314135, 4.798761990566708, 4.576136638148352, 4.1268401389786815, 3.977012418527161, 3.7358244110247396, 3.869654065978944, 3.6959298650206462, 3.696226292011933, 3.7753778799468085, 3.8428990494547275, 3.3826006438992486, 3.1028789879500116, 2.8809426112373444, 2.7964844840463186, 2.776106988815809, 2.763476594398372, 2.5186866578747362, 2.50423940785537, 2.50423940785537, 2.510661579239814, 2.573462396967553, 2.493876245823171, 2.445576630307773, 2.412828889452389, 2.4187813046738635, 8.544371593004653, 5.580920885275238, 9.801760937849615, 4.6290891652027115, 8.753792921367621, 4.573688944979715, 7.774901695957653, 4.575155266362345, 6.566561716068394, 7.029625946689016, 5.449686826915239, 8.864587160412123, 6.472993109946422, 5.49937617650485, 5.203661726249564, 6.0726045837784515, 4.411748337065211, 3.9975923895163628, 4.434006407297972, 4.245626744265237, 4.122261954327691], \"Total\": [171.0, 227.0, 103.0, 931.0, 102.0, 74.0, 141.0, 76.0, 64.0, 25.0, 194.0, 44.0, 292.0, 88.0, 43.0, 92.0, 272.0, 103.0, 39.0, 281.0, 20.0, 28.0, 37.0, 33.0, 24.0, 23.0, 104.0, 31.0, 16.0, 32.0, 141.89275747144714, 60.75504732425187, 58.72842204559825, 56.31405693869096, 51.87885604795674, 46.06238796537239, 41.53643093119746, 37.29329149706754, 36.65867343470674, 32.57736273760911, 32.51299611566562, 31.86893495430101, 30.632599398604803, 27.809786123064015, 26.660180330925545, 24.761258497835147, 24.084622109193596, 24.099517866723975, 23.86870237506185, 22.879791080238093, 23.00154118938676, 21.394594104803858, 21.801435773192694, 20.278752482893562, 20.278752482893562, 20.45332793811505, 20.27524309498948, 20.10716407184401, 19.2199011354992, 18.978878335888627, 43.765410258527, 49.575786463384034, 66.76936664228867, 62.86230514345734, 41.63217199072629, 87.02355463093758, 61.35288911386682, 90.85694210456884, 38.87986586891676, 931.6375352509509, 67.63134843200066, 84.91111552883808, 280.24817880170593, 78.54868383203313, 295.3917352256812, 106.59901738878808, 194.59479647306728, 88.8110516945296, 281.42553360411296, 184.05796053030897, 197.8445455796889, 75.28805680603995, 104.23139272246065, 130.5433463031696, 210.21680377071166, 118.23780862976294, 292.4336130217878, 272.05301815824896, 163.83008753946956, 159.06015918570677, 227.27585406258757, 131.92562343783052, 113.18761297856443, 94.39544660199368, 90.10563591359717, 102.26776975409868, 74.16409733768006, 27.51424188822281, 25.17621221989662, 22.579735204614295, 22.009325014101034, 17.871912810193727, 17.42762237702366, 16.69622854713833, 16.536060291536188, 15.767009121736475, 16.794519614096178, 15.83721411581171, 15.556524334260809, 14.40571238522552, 14.447464634820028, 13.547513013743437, 13.867994361911228, 13.559868385319453, 13.131303471924829, 13.684371610898332, 12.656291784251696, 12.047398988200214, 11.323146775195372, 10.54808957293864, 11.315803161029748, 10.444970042454027, 9.867039153364097, 9.689238461369193, 9.806256754719334, 19.602659597066534, 23.380196601073482, 23.08049266115412, 38.993957433622555, 32.21489463554898, 56.65934884054318, 92.14017059226335, 44.88695941274464, 931.6375352509509, 103.45037808014257, 281.42553360411296, 42.09840602247025, 194.59479647306728, 44.793723419164955, 272.05301815824896, 184.05796053030897, 295.3917352256812, 138.60982305279046, 280.24817880170593, 292.4336130217878, 103.09755740567053, 163.83008753946956, 39.11149176615645, 131.58081274664707, 50.35385871029519, 81.00542073617594, 118.23780862976294, 65.00734724670068, 131.92562343783052, 90.10563591359717, 159.06015918570677, 97.44867911567312, 210.21680377071166, 66.54966984527361, 197.8445455796889, 103.00746634936458, 44.81044943969382, 31.854253151253488, 27.098592321161757, 26.355834279033225, 25.388271384463962, 21.331957666828202, 19.670089976544585, 17.330943856741413, 16.849559284520193, 43.093568308552385, 15.141330561769847, 15.836977836564603, 15.124557305261659, 17.562804289759814, 14.761875615152645, 14.98427390533703, 13.848553084526792, 39.74932044492967, 12.86020690853709, 28.40164383216827, 14.248082651719546, 12.853818242373627, 32.037942051966105, 11.704733527121922, 11.364342424198126, 11.079369266195972, 11.133694202358134, 10.704560848264437, 10.57418225253635, 21.92726529520819, 171.6445536816792, 64.93169536773782, 26.55323528049683, 15.660199538261983, 227.27585406258757, 37.46869900627361, 36.28160449854655, 88.9001573547149, 48.43722341179409, 31.6851731174806, 931.6375352509509, 292.4336130217878, 42.12580636298557, 210.21680377071166, 197.8445455796889, 272.05301815824896, 131.58081274664707, 69.5217749244352, 295.3917352256812, 104.23139272246065, 138.60982305279046, 159.06015918570677, 280.24817880170593, 76.57365409832782, 281.42553360411296, 71.78894819784779, 73.10667611178307, 25.60027342556341, 16.257430113835788, 9.612367461396227, 9.450440514729802, 8.681653819171837, 8.066676534550234, 7.739846375800756, 6.288458946489195, 6.29005438351269, 6.2261736780082915, 5.823822760000353, 5.531586408898461, 5.184249624917913, 5.184293166975959, 5.045993836769747, 4.717446800120547, 4.600349180005045, 4.640171936346166, 20.351542234140148, 4.253433473433958, 4.179534455291602, 4.091170242391078, 4.269891884639015, 3.9614849951851063, 3.9614849951851063, 3.9614849951851063, 3.9395261319244055, 3.9291766632552223, 3.70115545835847, 3.6146642733687986, 15.84962640553339, 10.866685843012219, 17.034847702046488, 7.349340439628669, 6.805921063213286, 10.442197566783603, 11.071070191966953, 5.8726236159406175, 8.744384314390649, 14.48244033009634, 14.554497286420792, 19.366576686499037, 18.05019401039945, 272.05301815824896, 82.15349305622536, 16.070731951153483, 50.35385871029519, 20.627108712981595, 88.9001573547149, 28.787059824927688, 8.257166646917632, 6.442044986903583, 6.264934397560132, 5.993581550764837, 6.128509028293161, 5.446432208607981, 5.224579154661611, 4.768420556240717, 4.63113129174697, 4.373304815203574, 4.539553985298203, 4.335825287561592, 4.337545326187261, 4.446488146887846, 4.546319864905734, 4.023035100132214, 3.7419462186148373, 3.5215190594366232, 3.438209258833053, 3.4159141319189743, 3.415785519508677, 3.1594594258386945, 3.1458811160779483, 3.1458811160779483, 3.160337111735127, 3.251322662034514, 3.1619555864980633, 3.1029254506931707, 3.0669945059415333, 3.078750748037923, 10.899896084074594, 8.611657568878702, 17.872106701212935, 7.864705915327759, 24.43870719785678, 8.773248441884746, 28.3494489483014, 10.580541322446198, 23.447347851787057, 33.012976240622486, 17.870720063770705, 76.57365409832782, 37.099423451206874, 23.69857153653576, 26.09760329597148, 92.14017059226335, 17.52443253701903, 9.83922285020463, 40.05089611491429, 130.5433463031696, 67.31296792713366], \"Category\": [\"Default\", \"Default\", \"Default\", \"Default\", \"Default\", \"Default\", \"Default\", \"Default\", \"Default\", \"Default\", \"Default\", \"Default\", \"Default\", \"Default\", \"Default\", \"Default\", \"Default\", \"Default\", \"Default\", \"Default\", \"Default\", \"Default\", \"Default\", \"Default\", \"Default\", \"Default\", \"Default\", \"Default\", \"Default\", \"Default\", \"Topic1\", \"Topic1\", \"Topic1\", \"Topic1\", \"Topic1\", \"Topic1\", \"Topic1\", \"Topic1\", \"Topic1\", \"Topic1\", \"Topic1\", \"Topic1\", \"Topic1\", \"Topic1\", \"Topic1\", \"Topic1\", \"Topic1\", \"Topic1\", \"Topic1\", \"Topic1\", \"Topic1\", \"Topic1\", \"Topic1\", \"Topic1\", \"Topic1\", \"Topic1\", \"Topic1\", \"Topic1\", \"Topic1\", \"Topic1\", \"Topic1\", \"Topic1\", \"Topic1\", \"Topic1\", \"Topic1\", \"Topic1\", \"Topic1\", \"Topic1\", \"Topic1\", \"Topic1\", \"Topic1\", \"Topic1\", \"Topic1\", \"Topic1\", \"Topic1\", \"Topic1\", \"Topic1\", \"Topic1\", \"Topic1\", \"Topic1\", \"Topic1\", \"Topic1\", \"Topic1\", \"Topic1\", \"Topic1\", \"Topic1\", \"Topic1\", \"Topic1\", \"Topic1\", \"Topic1\", \"Topic1\", \"Topic1\", \"Topic1\", \"Topic1\", \"Topic1\", \"Topic2\", \"Topic2\", \"Topic2\", \"Topic2\", \"Topic2\", \"Topic2\", \"Topic2\", \"Topic2\", \"Topic2\", \"Topic2\", \"Topic2\", \"Topic2\", \"Topic2\", \"Topic2\", \"Topic2\", \"Topic2\", \"Topic2\", \"Topic2\", \"Topic2\", \"Topic2\", \"Topic2\", \"Topic2\", \"Topic2\", \"Topic2\", \"Topic2\", \"Topic2\", \"Topic2\", \"Topic2\", \"Topic2\", \"Topic2\", \"Topic2\", \"Topic2\", \"Topic2\", \"Topic2\", \"Topic2\", \"Topic2\", \"Topic2\", \"Topic2\", \"Topic2\", \"Topic2\", \"Topic2\", \"Topic2\", \"Topic2\", \"Topic2\", \"Topic2\", \"Topic2\", \"Topic2\", \"Topic2\", \"Topic2\", \"Topic2\", \"Topic2\", \"Topic2\", \"Topic2\", \"Topic2\", \"Topic2\", \"Topic2\", \"Topic2\", \"Topic2\", \"Topic2\", \"Topic2\", \"Topic2\", \"Topic2\", \"Topic2\", \"Topic2\", \"Topic2\", \"Topic3\", \"Topic3\", \"Topic3\", \"Topic3\", \"Topic3\", \"Topic3\", \"Topic3\", \"Topic3\", \"Topic3\", \"Topic3\", \"Topic3\", \"Topic3\", \"Topic3\", \"Topic3\", \"Topic3\", \"Topic3\", \"Topic3\", \"Topic3\", \"Topic3\", \"Topic3\", \"Topic3\", \"Topic3\", \"Topic3\", \"Topic3\", \"Topic3\", \"Topic3\", \"Topic3\", \"Topic3\", \"Topic3\", \"Topic3\", \"Topic3\", \"Topic3\", \"Topic3\", \"Topic3\", \"Topic3\", \"Topic3\", \"Topic3\", \"Topic3\", \"Topic3\", \"Topic3\", \"Topic3\", \"Topic3\", \"Topic3\", \"Topic3\", \"Topic3\", \"Topic3\", \"Topic3\", \"Topic3\", \"Topic3\", \"Topic3\", \"Topic3\", \"Topic3\", \"Topic3\", \"Topic3\", \"Topic3\", \"Topic3\", \"Topic3\", \"Topic3\", \"Topic4\", \"Topic4\", \"Topic4\", \"Topic4\", \"Topic4\", \"Topic4\", \"Topic4\", \"Topic4\", \"Topic4\", \"Topic4\", \"Topic4\", \"Topic4\", \"Topic4\", \"Topic4\", \"Topic4\", \"Topic4\", \"Topic4\", \"Topic4\", \"Topic4\", \"Topic4\", \"Topic4\", \"Topic4\", \"Topic4\", \"Topic4\", \"Topic4\", \"Topic4\", \"Topic4\", \"Topic4\", \"Topic4\", \"Topic4\", \"Topic4\", \"Topic4\", \"Topic4\", \"Topic4\", \"Topic4\", \"Topic4\", \"Topic4\", \"Topic4\", \"Topic4\", \"Topic4\", \"Topic4\", \"Topic4\", \"Topic4\", \"Topic4\", \"Topic4\", \"Topic4\", \"Topic4\", \"Topic4\", \"Topic4\", \"Topic4\", \"Topic5\", \"Topic5\", \"Topic5\", \"Topic5\", \"Topic5\", \"Topic5\", \"Topic5\", \"Topic5\", \"Topic5\", \"Topic5\", \"Topic5\", \"Topic5\", \"Topic5\", \"Topic5\", \"Topic5\", \"Topic5\", \"Topic5\", \"Topic5\", \"Topic5\", \"Topic5\", \"Topic5\", \"Topic5\", \"Topic5\", \"Topic5\", \"Topic5\", \"Topic5\", \"Topic5\", \"Topic5\", \"Topic5\", \"Topic5\", \"Topic5\", \"Topic5\", \"Topic5\", \"Topic5\", \"Topic5\", \"Topic5\", \"Topic5\", \"Topic5\", \"Topic5\", \"Topic5\", \"Topic5\", \"Topic5\", \"Topic5\", \"Topic5\", \"Topic5\", \"Topic5\", \"Topic5\", \"Topic5\", \"Topic5\", \"Topic5\", \"Topic5\"], \"logprob\": [30.0, 29.0, 28.0, 27.0, 26.0, 25.0, 24.0, 23.0, 22.0, 21.0, 20.0, 19.0, 18.0, 17.0, 16.0, 15.0, 14.0, 13.0, 12.0, 11.0, 10.0, 9.0, 8.0, 7.0, 6.0, 5.0, 4.0, 3.0, 2.0, 1.0, -4.4856, -5.3395, -5.3738, -5.4163, -5.4995, -5.6195, -5.7243, -5.834, -5.8512, -5.9714, -5.9736, -5.9939, -6.0343, -6.133, -6.1758, -6.2516, -6.2799, -6.2794, -6.2895, -6.3325, -6.3281, -6.4016, -6.383, -6.4565, -6.4565, -6.4479, -6.4568, -6.4658, -6.5119, -6.5255, -5.713, -5.6025, -5.3343, -5.407, -5.806, -5.1938, -5.5023, -5.1792, -5.8955, -3.2323, -5.4349, -5.2571, -4.3086, -5.3496, -4.3203, -5.115, -4.6575, -5.2652, -4.4138, -4.7388, -4.6986, -5.404, -5.1874, -5.0435, -4.7343, -5.1135, -4.5778, -4.6469, -4.9443, -4.9633, -4.7769, -5.1222, -5.2091, -5.3519, -5.367, -4.1461, -4.4692, -5.4749, -5.5671, -5.6774, -5.7041, -5.9187, -5.9463, -5.9913, -6.001, -6.0488, -5.9861, -6.0458, -6.0641, -6.1428, -6.1402, -6.2065, -6.1833, -6.2066, -6.2395, -6.1987, -6.278, -6.331, -6.3955, -6.4708, -6.4006, -6.4812, -6.5423, -6.5613, -6.5498, -5.8886, -5.7914, -5.8503, -5.4278, -5.5853, -5.1957, -4.8394, -5.3874, -3.2503, -4.8143, -4.195, -5.4499, -4.5112, -5.4587, -4.4011, -4.6496, -4.3904, -4.8556, -4.4843, -4.4691, -5.0398, -4.8484, -5.581, -5.0849, -5.4913, -5.2922, -5.156, -5.4144, -5.2064, -5.3285, -5.1899, -5.3142, -5.2265, -5.4189, -5.3646, -4.0326, -4.8727, -5.2198, -5.3845, -5.4136, -5.4516, -5.6301, -5.7139, -5.8446, -5.8744, -4.936, -5.9852, -5.9405, -5.9868, -5.8374, -6.0114, -5.9985, -6.0793, -5.026, -6.1574, -5.3656, -6.056, -6.1598, -5.249, -6.2561, -6.2865, -6.3128, -6.3094, -6.349, -6.3617, -5.6537, -3.6722, -4.6199, -5.4855, -6.0162, -3.8636, -5.3384, -5.3739, -4.7022, -5.2206, -5.5522, -3.4267, -4.1643, -5.3802, -4.4829, -4.6846, -4.5662, -4.9466, -5.2335, -4.7726, -5.1422, -5.0738, -5.0951, -5.0009, -5.2864, -5.1772, -5.3215, -5.3386, -4.194, -4.663, -5.2178, -5.2363, -5.3287, -5.4094, -5.452, -5.6811, -5.6825, -5.6947, -5.7679, -5.8276, -5.899, -5.8991, -5.9367, -6.0077, -6.0363, -6.0378, -4.5612, -6.1284, -6.1527, -6.1748, -6.1321, -6.2126, -6.2126, -6.2126, -6.2207, -6.2254, -6.2949, -6.3238, -4.8758, -5.247, -4.917, -5.6766, -5.748, -5.4058, -5.3773, -5.8987, -5.7178, -5.4807, -5.5668, -5.4767, -5.5675, -4.8547, -5.4013, -5.7227, -5.6482, -5.7712, -5.7023, -5.7685, -5.1645, -5.4418, -5.4702, -5.5175, -5.499, -5.6259, -5.6734, -5.7767, -5.8137, -5.8763, -5.8411, -5.887, -5.8869, -5.8657, -5.848, -5.9756, -6.0619, -6.1361, -6.1659, -6.1732, -6.1778, -6.2705, -6.2763, -6.2763, -6.2737, -6.249, -6.2804, -6.3, -6.3134, -6.311, -5.049, -5.4749, -4.9117, -5.6619, -5.0248, -5.6739, -5.1433, -5.6736, -5.3123, -5.2441, -5.4987, -5.0122, -5.3266, -5.4896, -5.5449, -5.3905, -5.71, -5.8085, -5.7049, -5.7484, -5.7778], \"loglift\": [30.0, 29.0, 28.0, 27.0, 26.0, 25.0, 24.0, 23.0, 22.0, 21.0, 20.0, 19.0, 18.0, 17.0, 16.0, 15.0, 14.0, 13.0, 12.0, 11.0, 10.0, 9.0, 8.0, 7.0, 6.0, 5.0, 4.0, 3.0, 2.0, 1.0, 0.7892, 0.7835, 0.7832, 0.7827, 0.7815, 0.7804, 0.779, 0.7771, 0.777, 0.7749, 0.7747, 0.7744, 0.7735, 0.7715, 0.7709, 0.7689, 0.7684, 0.7683, 0.7678, 0.7671, 0.7662, 0.7651, 0.7649, 0.7638, 0.7638, 0.7638, 0.7637, 0.763, 0.762, 0.7611, 0.738, 0.7239, 0.6943, 0.6819, 0.695, 0.5699, 0.6109, 0.5414, 0.6739, 0.1606, 0.5809, 0.5311, 0.2856, 0.5166, 0.2213, 0.4458, 0.3014, 0.4782, 0.1762, 0.2758, 0.2438, 0.5045, 0.3959, 0.3146, 0.1475, 0.3437, -0.0262, -0.0231, 0.1868, 0.1973, 0.0268, 0.2255, 0.2917, 0.3305, 0.3619, 1.4561, 1.4544, 1.4402, 1.4368, 1.4354, 1.4343, 1.428, 1.4255, 1.4234, 1.4234, 1.4232, 1.4228, 1.4217, 1.4213, 1.4195, 1.4192, 1.4172, 1.417, 1.4162, 1.4154, 1.415, 1.4137, 1.41, 1.4075, 1.4031, 1.403, 1.4026, 1.3984, 1.3975, 1.397, 1.3656, 1.2866, 1.2406, 1.1386, 1.1722, 0.9971, 0.8671, 1.0383, 0.1426, 0.7765, 0.395, 1.04, 0.4478, 0.9691, 0.2228, 0.365, 0.1511, 0.4426, 0.1099, 0.0825, 0.5544, 0.2827, 0.9824, 0.2654, 0.8195, 0.5432, 0.3012, 0.641, 0.1412, 0.4004, -0.0293, 0.3363, -0.3448, 0.613, -0.4222, 1.5625, 1.5547, 1.5489, 1.5458, 1.5446, 1.544, 1.5396, 1.5369, 1.5328, 1.5312, 1.5305, 1.5272, 1.527, 1.5268, 1.5266, 1.5264, 1.5244, 1.5224, 1.5213, 1.5184, 1.5178, 1.5173, 1.5164, 1.5139, 1.5137, 1.5129, 1.512, 1.5105, 1.5102, 1.5098, 1.4885, 1.4122, 1.4366, 1.4652, 1.4626, 0.9401, 1.268, 1.2647, 1.0402, 1.129, 1.2218, -0.0338, 0.3874, 1.1091, 0.3988, 0.2578, 0.0576, 0.4037, 0.7547, -0.231, 0.441, 0.2245, 0.0655, -0.4067, 0.6052, -0.5872, 0.6346, 0.5993, 2.7933, 2.7783, 2.749, 2.7475, 2.74, 2.7327, 2.7315, 2.7101, 2.7084, 2.7064, 2.7, 2.6918, 2.6852, 2.6851, 2.6746, 2.6709, 2.6675, 2.6574, 2.6555, 2.6537, 2.647, 2.6462, 2.6462, 2.6406, 2.6406, 2.6406, 2.6381, 2.6361, 2.6263, 2.621, 2.591, 2.5972, 2.4776, 2.5586, 2.5641, 2.4782, 2.4482, 2.5609, 2.3437, 2.0763, 1.9851, 1.7897, 1.7692, -0.2308, 0.4199, 1.7301, 0.6626, 1.432, 0.04, 1.1014, 2.9542, 2.9252, 2.9247, 2.9217, 2.9179, 2.909, 2.9031, 2.8911, 2.8834, 2.8781, 2.876, 2.876, 2.8756, 2.872, 2.8675, 2.8622, 2.8484, 2.8349, 2.829, 2.8282, 2.8237, 2.809, 2.8075, 2.8075, 2.8055, 2.8018, 2.7983, 2.7976, 2.7957, 2.7944, 2.7922, 2.6019, 2.435, 2.5056, 2.009, 2.3842, 1.7419, 2.1973, 1.7629, 1.4889, 1.848, 0.8794, 1.2897, 1.5749, 1.4232, 0.3161, 1.6563, 2.1349, 0.8348, -0.3902, 0.2427]}, \"token.table\": {\"Topic\": [1, 2, 5, 5, 5, 1, 2, 3, 1, 2, 3, 4, 5, 1, 3, 3, 5, 2, 3, 4, 1, 2, 3, 1, 2, 5, 3, 2, 3, 5, 5, 2, 4, 3, 1, 2, 3, 5, 2, 1, 1, 5, 4, 1, 2, 3, 1, 2, 3, 5, 5, 3, 1, 5, 2, 3, 1, 3, 5, 1, 1, 2, 4, 1, 2, 3, 3, 1, 3, 5, 2, 1, 2, 1, 2, 3, 1, 2, 3, 2, 4, 1, 3, 2, 4, 1, 2, 2, 3, 4, 5, 3, 4, 1, 4, 1, 2, 3, 4, 1, 1, 5, 4, 1, 1, 4, 2, 1, 2, 5, 4, 1, 4, 5, 4, 1, 3, 1, 2, 3, 2, 5, 1, 4, 2, 3, 4, 5, 5, 3, 5, 4, 1, 2, 1, 1, 2, 3, 4, 4, 5, 1, 4, 1, 1, 3, 1, 2, 5, 4, 4, 1, 3, 4, 3, 1, 2, 3, 2, 5, 1, 2, 3, 1, 2, 3, 1, 2, 3, 4, 1, 2, 3, 2, 4, 2, 1, 5, 5, 1, 2, 2, 3, 5, 2, 3, 3, 1, 4, 5, 2, 1, 3, 3, 1, 4, 5, 2, 2, 3, 5, 5, 1, 3, 1, 2, 3, 3, 4, 1, 5, 1, 2, 3, 5, 1, 2, 3, 4, 1, 1, 2, 1, 2, 3, 4, 2, 1, 2, 3, 2, 2, 4, 5, 2, 1, 4, 1, 2, 4, 1, 1, 2, 5, 1, 2, 3, 4, 3, 1, 2, 3, 1, 2, 3, 2, 3, 1, 2, 3, 1, 4, 4, 1, 2, 3, 1, 2, 3, 5, 2, 2, 1, 3, 3, 5, 3, 4, 1, 1, 3, 1, 3, 4, 4, 4, 2, 5, 2, 1, 3, 5, 1, 2, 1, 2, 3, 5, 1, 2, 4, 5, 1, 1, 2, 3, 4, 1, 3, 5, 2, 3, 3, 3, 1, 2, 3, 5, 1, 3, 5, 1, 4, 1, 2, 3, 3, 1, 2, 5, 5, 1, 2, 5, 1, 3, 3, 5, 1, 1, 3, 1, 2, 1, 2, 3, 4, 1, 2, 3, 1, 3, 3, 2, 3, 5, 1, 2, 2, 1, 1, 1, 4, 5, 3, 4, 4, 2, 1, 2, 3, 3, 1, 1, 2, 5, 2, 1, 4, 5, 1, 2, 3, 5, 1, 1, 1, 2, 3, 2, 2, 2, 3, 5, 3, 5, 4, 5, 1, 2, 3, 4, 4, 3, 1, 3, 5, 1, 2, 3, 4, 1, 2, 1, 1, 2, 5, 1, 2, 4, 1, 2, 3, 1, 2, 3, 5], \"Freq\": [0.37951745696421757, 0.6027630198843456, 0.9221805650884193, 0.6521042004234117, 0.9180321738141891, 0.6343148682233013, 0.3129286683234953, 0.050745189457864104, 0.43206985016460103, 0.3950352915790638, 0.1728279400658404, 0.851408216666232, 0.17028164333324639, 0.9632393122393275, 0.9879919279326158, 0.34836498966721235, 0.6967299793344247, 0.3126404730019214, 0.48632962466965546, 0.1736891516677341, 0.4513951632753986, 0.16414369573650855, 0.38300195671852, 0.2564499901561029, 0.7180599724370882, 0.6325199533289602, 0.990219482285414, 0.9675823453661109, 0.3814510081239288, 0.635751680206548, 0.949529522507995, 0.9480389724462736, 0.8620370225224326, 0.9906659087064191, 0.31473785878181365, 0.5535045102714654, 0.07597120729216192, 0.06511817767899593, 0.951213235009942, 0.9692560659668529, 0.6714894507428153, 0.2797872711428397, 0.9765520697539112, 0.804379921009506, 0.0804379921009506, 0.12640255901577951, 0.9870852906912965, 0.3049021295353228, 0.20326808635688187, 0.40653617271376374, 0.9225463976777405, 0.9847066632231779, 0.56707873606346, 0.4725656133862167, 0.959585717822304, 0.9594594321305817, 0.5907529058625494, 0.16878654453215694, 0.2109831806651962, 0.9921355427398891, 0.9875722700005128, 0.4833439558838103, 0.4833439558838103, 0.5432457574592844, 0.3051942457636429, 0.1464932379665486, 0.9397907243689974, 0.49625423322758505, 0.37872033588420967, 0.11753389734337541, 0.9720918474335665, 0.9368128793448657, 0.04569818923633491, 0.24833233479435438, 0.7449970043830632, 0.9679398586738877, 0.45587888969147317, 0.40738113546897603, 0.13579371182299202, 0.912127727488698, 0.9636737280864541, 0.07532038860322932, 0.9038446632387518, 0.9541410282480551, 0.8105576849588898, 0.743809873380972, 0.23908174501531243, 0.9526917332348517, 0.9331109588939775, 0.816399791149579, 0.13606663185826315, 0.9864988421437944, 0.9570443892227523, 0.9864246710286053, 0.9541288336389252, 0.4503764675554017, 0.27996375010200647, 0.18258505441435205, 0.08520635872669763, 0.9815563640576263, 0.9885586749927116, 0.7457056489269526, 0.8299525967328791, 0.9778359815338282, 0.2709765133795978, 0.7226040356789276, 0.9900007282441107, 0.6491739891512198, 0.22471407316772993, 0.09987292140787997, 0.903899827354533, 0.6094117322873346, 0.3324063994294552, 0.9492658200481984, 0.8677675335088035, 0.031212991095931893, 0.9363897328779568, 0.5653509563238488, 0.27082680542459825, 0.16588141832256642, 0.9642256636313581, 0.6496141336789257, 0.18404875496479844, 0.828219397341593, 0.20654140712377464, 0.4130828142475493, 0.3614474624666056, 0.8342257392596841, 0.9577115448067086, 0.9819138292557291, 0.9313812635890866, 0.8694992148390817, 0.8986156828691368, 0.08986156828691368, 0.9946703537375481, 0.6250301484219462, 0.1906871639253395, 0.16949970126696842, 0.7572917740812547, 0.4559314632996629, 0.5699143291245786, 0.9615472415306278, 0.7572917740812547, 0.9820322621362741, 0.8132323438042827, 0.19221855399010318, 0.37063609853866225, 0.635376168923421, 0.8995863404695346, 0.9523365589119651, 0.7332865225003824, 0.9752372143499817, 0.23481278318205678, 0.7044383495461704, 0.9809044527824328, 0.4411257607051787, 0.2530488859859165, 0.30776215863152007, 0.8554247999386676, 0.12831371999080013, 0.38759450512133714, 0.3039956902912448, 0.31159558254852593, 0.5532497920944349, 0.22632946040226887, 0.22004253094665027, 0.7035712132923317, 0.2532856367852394, 0.037523798042257694, 0.9404167303857344, 0.5401073529234967, 0.3446737712735472, 0.11726014898996967, 0.9182427471573109, 0.05101348595318394, 0.9690281550340959, 0.9793488175661117, 0.8017218379772746, 0.8798325060401218, 0.33417277971697695, 0.6460673741194888, 0.9573986291348441, 0.44762490140331695, 0.5595311267541462, 0.9754629537080496, 0.9679547593610683, 0.9659335581411358, 0.9830594559150586, 0.984165387024072, 0.851905086800792, 0.9718367009991384, 0.24020049371057894, 0.7472904248773568, 0.9025784554821895, 0.9549661977557218, 0.7615129077807489, 0.9536278992450223, 0.9471362760085535, 0.913060156036495, 0.9343128728455466, 0.8158591228171104, 0.9227014085777482, 0.06385614675960784, 0.8939860546345096, 0.5762099716521245, 0.15163420306634856, 0.26788709208388245, 0.9731824460866422, 0.9644516309089328, 0.6823799476656183, 0.298541227103708, 0.6738649195688977, 0.05390919356551182, 0.08086379034826774, 0.16172758069653548, 0.7655063721065385, 0.17665531663997042, 0.0588851055466568, 0.904410715681135, 0.9842218135221796, 0.8908359289752904, 0.09544670667592398, 0.5685021457210963, 0.2653010013365116, 0.16676062941152156, 0.9362937940257146, 0.9288655693512784, 0.2554482995862277, 0.42073837578908097, 0.300527411277915, 0.9977873749756179, 0.9513535436039627, 0.18348798782789505, 0.8256959452255277, 0.9930008446720449, 0.14693088425681344, 0.7346544212840672, 0.35747012167549685, 0.516345731309051, 0.11915670722516562, 0.9708812531142619, 0.2045934737676504, 0.4501056422888309, 0.3682682527817707, 0.7814482675224185, 0.1320757635249158, 0.08805050901661053, 0.9538868242104597, 0.9456996069460951, 0.41789162194326995, 0.18108636950875032, 0.3900321804803853, 0.3751537867572016, 0.3607247949588477, 0.2597218523703703, 0.025157662792888263, 0.955991186129754, 0.531322516826959, 0.2672713266462885, 0.20179521851205717, 0.982277179946719, 0.9367918692250842, 0.7635187361401502, 0.2556793297424952, 0.6136303913819885, 0.1278396648712476, 0.6030369250662594, 0.25691513967319923, 0.13916236732298293, 0.8782752848110664, 0.937410245543855, 0.9587113702426793, 0.1398238364411424, 0.8564209982019971, 0.9506492004318166, 0.035209229645622835, 0.18927890937244085, 0.820208607280577, 0.9862539629531596, 0.6715826985675095, 0.32619731073279035, 0.30967918768745145, 0.6400036545540663, 0.04129055835832686, 0.7927080629493293, 0.7572917740812547, 0.7418214525656388, 0.22825275463558117, 0.9481450178741673, 0.19293523802896925, 0.7441787752545956, 0.05512435372256264, 0.6547870108433111, 0.3440406328159771, 0.47467142540403273, 0.028767965176001983, 0.44590346022803073, 0.043151947764002975, 0.4929899817329862, 0.5026564519630448, 0.8479162923252862, 0.8637198446799179, 0.9958705453248347, 0.609607342926008, 0.2385420037536553, 0.15019311347452372, 0.9644597312536178, 0.458562705176635, 0.24691837971049577, 0.2821924339548523, 0.12320639334445758, 0.8778455525792603, 0.9483889693278135, 0.9471504067757057, 0.1931277196701906, 0.3862554393403812, 0.3565434824680442, 0.05942391374467403, 0.900208866923623, 0.10288101336269978, 0.9570148813878663, 0.6222491937762826, 0.3111245968881413, 0.7638574839560998, 0.19096437098902494, 0.05092383226373998, 0.9387262279786548, 0.9127556450445254, 0.04803977079181713, 0.04803977079181713, 0.8725472401927672, 0.4240756694566966, 0.36349343096288284, 0.2120378347283483, 0.9278723199676306, 0.06051341217180199, 0.9917645652201452, 0.6445530296427892, 0.9564576485923089, 0.9636049601100445, 0.9844384808927121, 0.9727341075079216, 0.9813099742921528, 0.33255415876143685, 0.6651083175228737, 0.1474089759628848, 0.8353175304563473, 0.43072054446001234, 0.44610342104786993, 0.12306301270286067, 0.4663935834151989, 0.5323926754079157, 0.9495797326105325, 0.9973816799296344, 0.9121064451375357, 0.04560532225687679, 0.8312566977138997, 0.16299150935566661, 0.9583002505522327, 0.9937082238208896, 0.9484227508831441, 0.581758702442279, 0.2423994593509496, 0.19391956748075967, 0.5496582837982267, 0.41224371284867, 0.8585426112795536, 0.9177813945845017, 0.5130905873095438, 0.3283779758781081, 0.16418898793905404, 0.9335747381615411, 0.9944231164337374, 0.34485925385298777, 0.4598123384706504, 0.191588474362771, 0.9499888171442747, 0.2872958475276251, 0.6703569775644586, 0.8782422169127172, 0.6204835580963908, 0.15320581681392365, 0.19150727101740456, 0.03064116336278473, 0.9769358903804327, 0.9875967713719145, 0.18936301776712783, 0.09468150888356391, 0.6943310651461354, 0.974324977712944, 0.9714613983540987, 0.356076269988744, 0.6409372859797392, 0.9146401106307983, 0.9825883483564993, 0.8388521844544439, 0.5717955456019346, 0.34307732736116076, 0.4410904933618413, 0.2903845747965455, 0.22054524668092065, 0.0477848034475328, 0.921483413947406, 0.9341812468300678, 0.02320531901280357, 0.9514180795249463, 0.9536278992450223, 0.3262086464514222, 0.02249714803113257, 0.5849258488094468, 0.0674914440933977, 0.17330652593617485, 0.7798793667127868, 0.9862539629531596, 0.7318908937546535, 0.2702366376940259, 0.9688553401046313, 0.6115271433605374, 0.3648607325932618, 0.025694417788257873, 0.5232693011543432, 0.16173778399316063, 0.30920458704574827, 0.5976378293178263, 0.3314173417126128, 0.07062992528301583, 0.8811438332828286], \"Term\": [\"!\", \"!\", \"#\", \"(\", \")\", \"-PRON-\", \"-PRON-\", \"-PRON-\", \".\", \".\", \".\", \"ableton\", \"ableton\", \"actually\", \"adjust\", \"ago\", \"ago\", \"almost\", \"almost\", \"almost\", \"also\", \"also\", \"also\", \"amazon\", \"amazon\", \"american\", \"amp\", \"arrive\", \"ask\", \"ask\", \"assemble\", \"attach\", \"attack\", \"audio\", \"back\", \"back\", \"back\", \"back\", \"bag\", \"ball\", \"base\", \"base\", \"battery\", \"be\", \"be\", \"be\", \"big\", \"black\", \"black\", \"black\", \"blink\", \"board\", \"body\", \"body\", \"boom\", \"bos\", \"bottom\", \"bottom\", \"bottom\", \"brand\", \"break\", \"buck\", \"buck\", \"buy\", \"buy\", \"buy\", \"buzz\", \"cable\", \"cable\", \"cable\", \"call\", \"capo\", \"capo\", \"case\", \"case\", \"channel\", \"cheap\", \"cheap\", \"cheap\", \"cheaply\", \"chorus\", \"clean\", \"clean\", \"clip\", \"cloth\", \"come\", \"come\", \"computer\", \"connect\", \"constantly\", \"constantly\", \"control\", \"copy\", \"cord\", \"correction\", \"could\", \"could\", \"could\", \"could\", \"cover\", \"crap\", \"crooked\", \"daw\", \"definitely\", \"delay\", \"delay\", \"description\", \"design\", \"design\", \"design\", \"desktop\", \"device\", \"device\", \"dice\", \"display\", \"distortion\", \"distortion\", \"do\", \"do\", \"do\", \"dollar\", \"dreadnought\", \"driver\", \"driver\", \"drop\", \"drop\", \"drop\", \"drum\", \"dry\", \"effect\", \"email\", \"enable\", \"end\", \"end\", \"especially\", \"even\", \"even\", \"even\", \"express\", \"extremely\", \"extremely\", \"fail\", \"fbv\", \"fender\", \"first\", \"first\", \"fit\", \"fit\", \"foam\", \"focusrite\", \"fresh\", \"fret\", \"function\", \"function\", \"gain\", \"get\", \"get\", \"get\", \"gig\", \"gig\", \"go\", \"go\", \"go\", \"good\", \"good\", \"good\", \"great\", \"great\", \"great\", \"guide\", \"guitar\", \"guitar\", \"guitar\", \"hand\", \"hand\", \"handle\", \"have\", \"hde\", \"height\", \"hold\", \"hold\", \"holder\", \"hole\", \"hole\", \"home\", \"idea\", \"input\", \"instrument\", \"interface\", \"intonation\", \"ipad\", \"issue\", \"issue\", \"joyo\", \"kind\", \"korg\", \"lab\", \"large\", \"le\", \"least\", \"leg\", \"length\", \"level\", \"level\", \"like\", \"like\", \"like\", \"line\", \"linux\", \"lock\", \"lock\", \"long\", \"long\", \"long\", \"long\", \"look\", \"look\", \"look\", \"looper\", \"love\", \"low\", \"low\", \"make\", \"make\", \"make\", \"manual\", \"martin\", \"may\", \"may\", \"may\", \"mic\", \"microphone\", \"midi\", \"midi\", \"mixer\", \"mode\", \"mode\", \"money\", \"money\", \"money\", \"month\", \"mount\", \"mount\", \"mount\", \"much\", \"much\", \"much\", \"multitrack\", \"mute\", \"need\", \"need\", \"need\", \"no\", \"no\", \"no\", \"noise\", \"noise\", \"not\", \"not\", \"not\", \"note\", \"nut\", \"octave\", \"ok\", \"ok\", \"ok\", \"one\", \"one\", \"one\", \"onoff\", \"pad\", \"paul\", \"pedal\", \"pedal\", \"pickup\", \"pickup\", \"pitch\", \"pitch\", \"planet\", \"play\", \"play\", \"plug\", \"plug\", \"plug\", \"pocket\", \"pod\", \"poor\", \"poor\", \"pop\", \"power\", \"power\", \"power\", \"price\", \"price\", \"problem\", \"problem\", \"problem\", \"problem\", \"product\", \"product\", \"program\", \"pyle\", \"quite\", \"really\", \"really\", \"really\", \"reaper\", \"receive\", \"receive\", \"receive\", \"record\", \"record\", \"recorder\", \"refund\", \"return\", \"return\", \"return\", \"return\", \"right\", \"right\", \"roll\", \"save\", \"save\", \"say\", \"say\", \"say\", \"screen\", \"screw\", \"screw\", \"screw\", \"seagull\", \"send\", \"send\", \"send\", \"set\", \"set\", \"setup\", \"shock\", \"short\", \"side\", \"signal\", \"since\", \"size\", \"small\", \"small\", \"software\", \"software\", \"something\", \"something\", \"something\", \"sound\", \"sound\", \"speaker\", \"stand\", \"stop\", \"stop\", \"strap\", \"strap\", \"strat\", \"string\", \"supply\", \"switch\", \"switch\", \"switch\", \"tascam\", \"tascam\", \"tc\", \"tight\", \"time\", \"time\", \"time\", \"together\", \"tone\", \"top\", \"top\", \"top\", \"totally\", \"track\", \"track\", \"transmitter\", \"try\", \"try\", \"try\", \"try\", \"tune\", \"tuner\", \"turn\", \"turn\", \"turn\", \"uke\", \"ukulele\", \"unit\", \"unit\", \"unscrew\", \"update\", \"upon\", \"usb\", \"usb\", \"use\", \"use\", \"use\", \"use\", \"user\", \"velcro\", \"volume\", \"volume\", \"voodoo\", \"want\", \"want\", \"want\", \"want\", \"waste\", \"waste\", \"wave\", \"way\", \"way\", \"weld\", \"well\", \"well\", \"well\", \"work\", \"work\", \"work\", \"would\", \"would\", \"would\", \"yeti\"]}, \"R\": 30, \"lambda.step\": 0.01, \"plot.opts\": {\"xlab\": \"PC1\", \"ylab\": \"PC2\"}, \"topic.order\": [3, 4, 2, 5, 1]};\n",
       "\n",
       "function LDAvis_load_lib(url, callback){\n",
       "  var s = document.createElement('script');\n",
       "  s.src = url;\n",
       "  s.async = true;\n",
       "  s.onreadystatechange = s.onload = callback;\n",
       "  s.onerror = function(){console.warn(\"failed to load library \" + url);};\n",
       "  document.getElementsByTagName(\"head\")[0].appendChild(s);\n",
       "}\n",
       "\n",
       "if(typeof(LDAvis) !== \"undefined\"){\n",
       "   // already loaded: just create the visualization\n",
       "   !function(LDAvis){\n",
       "       new LDAvis(\"#\" + \"ldavis_el19905140505880175104374144625\", ldavis_el19905140505880175104374144625_data);\n",
       "   }(LDAvis);\n",
       "}else if(typeof define === \"function\" && define.amd){\n",
       "   // require.js is available: use it to load d3/LDAvis\n",
       "   require.config({paths: {d3: \"https://d3js.org/d3.v5\"}});\n",
       "   require([\"d3\"], function(d3){\n",
       "      window.d3 = d3;\n",
       "      LDAvis_load_lib(\"https://cdn.jsdelivr.net/gh/bmabey/pyLDAvis@3.2.2/pyLDAvis/js/ldavis.v3.0.0.js\", function(){\n",
       "        new LDAvis(\"#\" + \"ldavis_el19905140505880175104374144625\", ldavis_el19905140505880175104374144625_data);\n",
       "      });\n",
       "    });\n",
       "}else{\n",
       "    // require.js not available: dynamically load d3 & LDAvis\n",
       "    LDAvis_load_lib(\"https://d3js.org/d3.v5.js\", function(){\n",
       "         LDAvis_load_lib(\"https://cdn.jsdelivr.net/gh/bmabey/pyLDAvis@3.2.2/pyLDAvis/js/ldavis.v3.0.0.js\", function(){\n",
       "                 new LDAvis(\"#\" + \"ldavis_el19905140505880175104374144625\", ldavis_el19905140505880175104374144625_data);\n",
       "            })\n",
       "         });\n",
       "}\n",
       "</script>"
      ],
      "text/plain": [
       "PreparedData(topic_coordinates=              x         y  topics  cluster       Freq\n",
       "topic                                                \n",
       "2     -0.177047  0.050756       1        1  45.233932\n",
       "3     -0.133374  0.120857       2        1  23.159529\n",
       "1     -0.097189 -0.194420       3        1  20.837764\n",
       "4      0.227514  0.044337       4        1   5.964341\n",
       "0      0.180096 -0.021530       5        1   4.804433, topic_info=        Term        Freq       Total Category  logprob  loglift\n",
       "30     pedal  171.000000  171.000000  Default  30.0000  30.0000\n",
       "251    sound  227.000000  227.000000  Default  29.0000  29.0000\n",
       "288      amp  103.000000  103.000000  Default  28.0000  28.0000\n",
       "26       not  931.000000  931.000000  Default  27.0000  27.0000\n",
       "733    stand  102.000000  102.000000  Default  26.0000  26.0000\n",
       "...      ...         ...         ...      ...      ...      ...\n",
       "744     poor    4.411748   17.524433   Topic5  -5.7100   1.6563\n",
       "1668   black    3.997592    9.839223   Topic5  -5.8085   2.1349\n",
       "645   design    4.434006   40.050896   Topic5  -5.7049   0.8348\n",
       "158      try    4.245627  130.543346   Topic5  -5.7484  -0.3902\n",
       "146   return    4.122262   67.312968   Topic5  -5.7778   0.2427\n",
       "\n",
       "[319 rows x 6 columns], token_table=      Topic      Freq   Term\n",
       "term                        \n",
       "599       1  0.379517      !\n",
       "599       2  0.602763      !\n",
       "4218      5  0.922181      #\n",
       "2178      5  0.652104      (\n",
       "2179      5  0.918032      )\n",
       "...     ...       ...    ...\n",
       "45        3  0.309205   work\n",
       "165       1  0.597638  would\n",
       "165       2  0.331417  would\n",
       "165       3  0.070630  would\n",
       "1632      5  0.881144   yeti\n",
       "\n",
       "[427 rows x 3 columns], R=30, lambda_step=0.01, plot_opts={'xlab': 'PC1', 'ylab': 'PC2'}, topic_order=[3, 4, 2, 5, 1])"
      ]
     },
     "execution_count": 290,
     "metadata": {},
     "output_type": "execute_result"
    }
   ],
   "source": [
    "pyLDAvis.enable_notebook()\n",
    "vis = pyLDAvis.gensim.prepare(lda_model, doc_term_matrix, dictionary)\n",
    "vis "
   ]
  },
  {
   "cell_type": "markdown",
   "metadata": {},
   "source": [
    "# Good Reviews - LDA"
   ]
  },
  {
   "cell_type": "code",
   "execution_count": 291,
   "metadata": {},
   "outputs": [
    {
     "name": "stdout",
     "output_type": "stream",
     "text": [
      "product exactly quite affordablei not realize double screen arrive even well expectedas add bonus one screen carry small hint smell old grape candy use buy reminiscents sake cannot stop put pop filter next nose smell record dif need pop filter work well expensive one may even come please aroma like mine didbuy product jake\n",
      "['product', 'exactly', 'quite', 'affordablei', 'not', 'realize', 'double', 'screen', 'arrive', 'even', 'well', 'expecteda', 'add', 'bonus', 'one', 'screen', 'carry', 'small', 'hint', 'smell', 'old', 'grape', 'candy', 'use', 'buy', 'reminiscent', 'sake', 'can', 'not', 'stop', 'put', 'pop', 'filter', 'next', 'nose', 'smell', 'record', 'dif', 'need', 'pop', 'filter', 'work', 'well', 'expensive', 'one', 'may', 'even', 'come', 'please', 'aroma', 'like', 'mine', 'didbuy', 'product', 'jake']\n"
     ]
    }
   ],
   "source": [
    "text_list=df_good['text'].tolist()\n",
    "print(text_list[1])\n",
    "tokenized_reviews_good = lemmatization2(text_list)\n",
    "print(tokenized_reviews_good[1])"
   ]
  },
  {
   "cell_type": "code",
   "execution_count": 292,
   "metadata": {},
   "outputs": [],
   "source": [
    "dictionary = corpora.Dictionary(tokenized_reviews_good)\n",
    "doc_term_matrix = [dictionary.doc2bow(rev) for rev in tokenized_reviews_good]\n",
    "\n",
    "# Creating the object for LDA model using gensim library\n",
    "LDA = gensim.models.ldamodel.LdaModel\n",
    "\n",
    "\n",
    "# Build LDA model\n",
    "lda_model = LDA(corpus=doc_term_matrix, id2word=dictionary, num_topics=5, random_state=100,\n",
    "                chunksize=100, passes=50,iterations=100) "
   ]
  },
  {
   "cell_type": "code",
   "execution_count": 293,
   "metadata": {},
   "outputs": [
    {
     "data": {
      "text/plain": [
       "[(0,\n",
       "  '0.043*\"pedal\" + 0.029*\"amp\" + 0.021*\"sound\" + 0.015*\"record\" + 0.013*\"use\" + 0.012*\"cable\" + 0.011*\"mic\" + 0.011*\"power\" + 0.008*\"plug\" + 0.008*\"knob\"'),\n",
       " (1,\n",
       "  '0.045*\"pick\" + 0.022*\"effect\" + 0.017*\"s\" + 0.015*\"that\" + 0.015*\"unit\" + 0.015*\"two\" + 0.014*\"case\" + 0.013*\"right\" + 0.012*\"read\" + 0.011*\"note\"'),\n",
       " (2,\n",
       "  '0.093*\"capo\" + 0.030*\"design\" + 0.027*\"fret\" + 0.024*\"tension\" + 0.020*\"headstock\" + 0.017*\"finger\" + 0.015*\"tight\" + 0.013*\"clip\" + 0.011*\"nut\" + 0.010*\"install\"'),\n",
       " (3,\n",
       "  '0.036*\"not\" + 0.020*\"guitar\" + 0.017*\"great\" + 0.016*\"use\" + 0.016*\"good\" + 0.015*\"well\" + 0.015*\"one\" + 0.014*\"string\" + 0.013*\"like\" + 0.012*\"get\"'),\n",
       " (4,\n",
       "  '0.040*\"strap\" + 0.033*\"tone\" + 0.023*\"bag\" + 0.022*\"joyo\" + 0.022*\"distortion\" + 0.021*\"button\" + 0.014*\"overdrive\" + 0.012*\"drive\" + 0.011*\"metal\" + 0.010*\"expect\"')]"
      ]
     },
     "execution_count": 293,
     "metadata": {},
     "output_type": "execute_result"
    }
   ],
   "source": [
    "lda_model.print_topics()"
   ]
  },
  {
   "cell_type": "code",
   "execution_count": 294,
   "metadata": {},
   "outputs": [
    {
     "data": {
      "text/html": [
       "\n",
       "<link rel=\"stylesheet\" type=\"text/css\" href=\"https://cdn.jsdelivr.net/gh/bmabey/pyLDAvis@3.2.2/pyLDAvis/js/ldavis.v1.0.0.css\">\n",
       "\n",
       "\n",
       "<div id=\"ldavis_el199051405045527634563862865181\"></div>\n",
       "<script type=\"text/javascript\">\n",
       "\n",
       "var ldavis_el199051405045527634563862865181_data = {\"mdsDat\": {\"x\": [-0.34397425808106274, -0.16836252842537236, 0.15721438099922902, 0.16693100487483417, 0.18819140063237264], \"y\": [0.02721938173978764, -0.026300797418682857, -0.3121389259503269, 0.2145569693579587, 0.09666337227126336], \"topics\": [1, 2, 3, 4, 5], \"cluster\": [1, 1, 1, 1, 1], \"Freq\": [65.9163032081627, 16.58239837729111, 8.773145577616843, 4.6866883829998995, 4.041464453929441]}, \"tinfo\": {\"Term\": [\"pedal\", \"capo\", \"tone\", \"pick\", \"amp\", \"not\", \"sound\", \"strap\", \"guitar\", \"effect\", \"record\", \"great\", \"use\", \"good\", \"well\", \"case\", \"one\", \"design\", \"string\", \"cable\", \"s\", \"two\", \"fret\", \"mic\", \"that\", \"right\", \"bag\", \"joyo\", \"unit\", \"tension\", \"guitar\", \"great\", \"good\", \"well\", \"one\", \"string\", \"do\", \"tuner\", \"play\", \"tune\", \"little\", \"price\", \"would\", \"really\", \"easy\", \"buy\", \"nice\", \"much\", \"!\", \"time\", \"set\", \"look\", \"thing\", \"find\", \"say\", \"try\", \"stand\", \"feel\", \",\", \"love\", \"not\", \"like\", \"make\", \"get\", \"work\", \"use\", \"-PRON-\", \"go\", \"sound\", \"no\", \"pedal\", \"amp\", \"record\", \"cable\", \"mic\", \"power\", \"plug\", \"knob\", \"battery\", \"volume\", \"headphone\", \"microphone\", \"noise\", \"board\", \"gain\", \"almost\", \"usb\", \"delay\", \"awesome\", \"input\", \"type\", \"interface\", \"jack\", \"studio\", \"loop\", \"output\", \"track\", \"audio\", \"mount\", \"cord\", \"ipad\", \"switch\", \"run\", \"sound\", \"use\", \"device\", \"also\", \"get\", \"need\", \"pick\", \"effect\", \"s\", \"that\", \"unit\", \"read\", \"open\", \"tell\", \"jam\", \"amazon\", \"spring\", \"learn\", \"least\", \"position\", \"single\", \"grip\", \"channel\", \"stuff\", \"figure\", \"own\", \"handle\", \"beginner\", \"item\", \"fairly\", \"package\", \"suppose\", \"behringer\", \"n\", \"free\", \"pull\", \"plastic\", \"part\", \"two\", \"day\", \"note\", \"case\", \"right\", \"show\", \"happy\", \"strap\", \"bag\", \"distortion\", \"joyo\", \"button\", \"drive\", \"vintage\", \"screen\", \"usually\", \"lock\", \"ball\", \"micro\", \"receive\", \"mid\", \"fuzz\", \"leather\", \"clone\", \"listen\", \"od\", \"b\", \"budget\", \"ernie\", \"solo\", \"tweak\", \"comparison\", \"layer\", \"?\", \"ocd\", \"increase\", \"xl\", \"overdrive\", \"tone\", \"press\", \"metal\", \"expect\", \"classic\", \"pad\", \"capo\", \"design\", \"fret\", \"tension\", \"headstock\", \"finger\", \"tight\", \"nut\", \"install\", \"violin\", \"together\", \"kyser\", \"bridge\", \"compact\", \"squeeze\", \"thumb\", \"bronze\", \"average\", \"watch\", \"secure\", \"ad\", \"custom\", \"pin\", \"tip\", \"settle\", \"apply\", \"clarity\", \"release\", \"sand\", \"phosphor\", \"nickel\", \"arm\", \"clip\", \"finish\", \"remove\", \"onto\", \"leave\", \"rest\", \"right\"], \"Freq\": [3479.0, 1814.0, 2010.0, 1914.0, 2339.0, 11655.0, 4977.0, 919.0, 6270.0, 915.0, 1226.0, 5279.0, 6272.0, 5027.0, 4881.0, 1005.0, 4685.0, 586.0, 4439.0, 991.0, 714.0, 998.0, 531.0, 907.0, 656.0, 1045.0, 513.0, 501.0, 631.0, 475.0, 6269.935257410374, 5278.48131678863, 5027.151966343983, 4881.115222782635, 4684.514787351844, 4438.939974565235, 3475.406825866695, 3317.9528869115743, 2805.614680809544, 2456.060638540327, 2421.5015965672246, 2403.4726149199446, 2346.245398588318, 2306.707446068271, 2227.0210896350113, 2108.3095539050437, 2022.227135760771, 1809.389823186652, 1788.2919331960345, 1795.9911138698099, 1717.6228923736696, 1668.7742923872192, 1565.0504831416931, 1503.6280117169413, 1486.431747617914, 1450.99806230677, 1365.7815157927462, 1315.8529550366998, 1284.8057183139592, 1250.123129066692, 11581.318506764354, 4119.616210809931, 2728.212833900735, 3987.596656301316, 3305.271970903599, 5222.483328932089, 2244.3798533377235, 1928.4443475586156, 3267.67910741833, 1724.4573908013037, 3479.035597353623, 2338.4522714026684, 1225.880421333494, 990.4666437006398, 907.0583885451153, 846.7837323079376, 678.4625678775901, 643.8358500522705, 587.5826185121127, 569.8564989019491, 534.7437138398807, 519.0448192502048, 508.7739372799597, 498.3187417253272, 489.4546346839704, 460.50793940738384, 409.7985522989228, 402.67584957758953, 411.99322291951256, 400.33288282021084, 417.52917567785187, 380.9620786402724, 369.8709488576897, 367.2795252940843, 373.5547146586363, 342.85928440810176, 335.7685597944494, 332.51158017683156, 343.01075965501104, 330.61047232488147, 336.97632242980586, 476.5829040236455, 435.5159823178816, 1709.6694703688072, 1049.2986571665128, 393.188674353946, 447.7952390556659, 432.20600506449324, 383.81699433090887, 1914.0070844032484, 914.7541777394555, 713.5966129534311, 655.3713968876013, 631.2482100205546, 528.9381648904033, 404.30260304754637, 370.81213154722747, 371.71856508929835, 332.5809698805129, 325.02787810520624, 308.1231735304845, 295.7376955305837, 287.5346579789311, 277.0241209808605, 267.81727476793225, 269.79230179962184, 249.89900621111235, 250.56505915003362, 240.45957573662494, 228.74707635979937, 223.8013463671083, 214.41148400349428, 219.40308181295362, 210.125751923007, 213.45247462486032, 201.7722291485232, 212.0346287771917, 191.73629939168936, 192.21318221486231, 363.1268779305942, 335.87419205873, 628.6334278620598, 394.1245384642042, 449.2538945625358, 592.5931173329412, 563.3217726192175, 257.96214494285493, 268.2264046124105, 918.4068397696105, 513.2933453858784, 492.1343185053086, 501.1658316785929, 467.0989590841412, 270.0096310349977, 225.8582727416443, 214.87060189904702, 219.79367022882343, 198.55950653027895, 186.1495003745475, 178.69526841730564, 165.38630541376912, 154.96200214488564, 153.29676180358052, 148.9414373337646, 140.46187533528968, 137.7335568411888, 125.8267707501284, 129.50530360896718, 119.58022466513826, 116.86055303613351, 115.3472987906133, 114.46284499771276, 113.12659778890965, 115.6841988364306, 104.00073019282827, 101.52222999067932, 102.13661195431231, 105.98277560373096, 313.525603304882, 752.821022214247, 136.93278102396175, 244.2184848648785, 231.05949951657888, 127.57497025680561, 121.64237514168694, 1813.5556204024285, 585.7748313157074, 531.2343654142225, 475.11561421398153, 389.612374594925, 334.6240849157909, 285.2348139274349, 210.96842527170529, 192.4214035344644, 187.9489449526283, 157.8171355643698, 153.46857416511403, 143.00309984109677, 140.2340087489648, 95.25496517223631, 92.64850280541454, 95.2941524874153, 84.81175077463614, 84.89050825385142, 80.64980996241447, 91.01660043573906, 83.02373722567351, 77.3692510278323, 76.05045977300702, 77.1195606492831, 75.46594983785403, 79.41050086499862, 72.56548689497546, 59.502460555517544, 77.16676955956736, 162.36299174141905, 138.77883670417663, 248.74056699605106, 168.7712617620322, 115.0307038551745, 89.93018476411929, 128.0936162515201, 90.62622221758237, 118.15824174767481], \"Total\": [3479.0, 1814.0, 2010.0, 1914.0, 2339.0, 11655.0, 4977.0, 919.0, 6270.0, 915.0, 1226.0, 5279.0, 6272.0, 5027.0, 4881.0, 1005.0, 4685.0, 586.0, 4439.0, 991.0, 714.0, 998.0, 531.0, 907.0, 656.0, 1045.0, 513.0, 501.0, 631.0, 475.0, 6270.592529900939, 5279.137092627709, 5027.809115800091, 4881.773280739709, 4685.172877861636, 4439.603783694153, 3476.065824668151, 3318.607252254851, 2806.2743844819684, 2456.716196812383, 2422.1603658841186, 2404.1280194341552, 2346.904049801997, 2307.3665317023697, 2227.679474429409, 2108.9627415769774, 2022.8857646760928, 1810.0496634853357, 1788.944924783298, 1796.6508707706812, 1718.2876020792035, 1669.4320859552147, 1565.7116972867766, 1504.2903148676792, 1487.09086078497, 1451.6584638619918, 1366.4346142317856, 1316.5152789357091, 1285.464799897481, 1250.7797025625448, 11655.60248974259, 4139.0385706834, 2789.2931989251683, 4420.296380634067, 3670.2912878077905, 6272.274866148652, 2406.5673189643703, 2050.2502320457806, 4977.841429264368, 2082.4745995188787, 3479.694341521881, 2339.1084190788574, 1226.5389812955473, 991.1204023471369, 907.7110729141888, 847.4390386732578, 679.1216716100167, 644.5025029591591, 588.2522335713593, 570.5166126193186, 535.4027628184624, 519.6975725321117, 509.43460531241413, 498.98433256623787, 490.11752631466624, 461.21273149882154, 410.45154859211084, 403.3294582193677, 412.6636918586777, 400.9869539422719, 418.2323054686423, 381.61959830340595, 370.52922999325597, 367.9427267713843, 374.2297199896201, 343.5229887445048, 336.4261027955773, 333.1665233116825, 343.68664738305597, 331.2746400212036, 337.6537400868227, 543.649143957486, 499.21537560061466, 4977.841429264368, 6272.274866148652, 515.710051014373, 1707.2143833165246, 4420.296380634067, 1747.8121079314362, 1914.6495513246748, 915.4146167556886, 714.2490371498808, 656.0239594264311, 631.902299581132, 529.5911240899966, 404.9633416630631, 371.466772638504, 372.3940834223342, 333.22617858692706, 325.70237688205884, 308.7733158287853, 296.39979260450593, 288.1983366483209, 277.68286143532805, 268.4638481592275, 270.45972727320316, 250.54942678034917, 251.22207197866976, 241.12527999246925, 229.40552318974008, 224.44815818817744, 215.0520560559207, 220.06289094403542, 210.77330622220563, 214.1218342612118, 202.4168954813608, 212.7538576516037, 192.39251351196992, 192.8763697824039, 413.2467092275441, 401.50111983166653, 998.2848888703962, 518.4862422072543, 642.5628458726377, 1005.9954541707867, 1045.281345859489, 322.1662481170293, 420.58505971295057, 919.0638935127811, 513.9687937385397, 492.79662653392177, 501.85026677751125, 467.77164374571777, 270.68216491864354, 226.52790532520856, 215.5553564417104, 220.49839040998867, 199.2188463924506, 186.83547153404209, 179.40393441141262, 166.08169076224297, 155.63267426947277, 153.96267627413678, 149.59733051468444, 141.12652827285314, 138.44713151254882, 126.49088283107314, 130.21066357583476, 120.2529165409325, 117.53822083530657, 116.04009315825702, 115.15174170581187, 113.80889385199622, 116.39403018767234, 104.67968709000174, 102.1922667257067, 102.826711333201, 106.77536374161753, 408.58137641199426, 2010.844915242339, 163.44581374045194, 549.1972063079891, 555.6331771364677, 219.2288305287052, 350.5866342633301, 1814.2278412527482, 586.4603176499818, 531.9052068717439, 475.79204742114047, 390.2857380202131, 335.2968662677748, 285.91365062797536, 211.63820262646303, 193.09631343600364, 188.6212081594345, 158.49572702491676, 154.13985762335267, 143.66787156059272, 140.93294598634992, 95.9326080763548, 93.32159255011685, 96.0132502747813, 85.510396273157, 85.59171477824037, 81.31881153280982, 91.77239373695991, 83.72614280181536, 78.03605886604855, 76.72457513761842, 77.80530473389909, 76.14819569979676, 80.13293359068983, 73.27973580643764, 60.18026233586275, 78.07339526269536, 187.55123298023292, 175.2201282710834, 554.3243133857271, 326.96216737188945, 197.56138529648086, 113.05948503169724, 413.98964921688025, 135.1847541325902, 1045.281345859489], \"Category\": [\"Default\", \"Default\", \"Default\", \"Default\", \"Default\", \"Default\", \"Default\", \"Default\", \"Default\", \"Default\", \"Default\", \"Default\", \"Default\", \"Default\", \"Default\", \"Default\", \"Default\", \"Default\", \"Default\", \"Default\", \"Default\", \"Default\", \"Default\", \"Default\", \"Default\", \"Default\", \"Default\", \"Default\", \"Default\", \"Default\", \"Topic1\", \"Topic1\", \"Topic1\", \"Topic1\", \"Topic1\", \"Topic1\", \"Topic1\", \"Topic1\", \"Topic1\", \"Topic1\", \"Topic1\", \"Topic1\", \"Topic1\", \"Topic1\", \"Topic1\", \"Topic1\", \"Topic1\", \"Topic1\", \"Topic1\", \"Topic1\", \"Topic1\", \"Topic1\", \"Topic1\", \"Topic1\", \"Topic1\", \"Topic1\", \"Topic1\", \"Topic1\", \"Topic1\", \"Topic1\", \"Topic1\", \"Topic1\", \"Topic1\", \"Topic1\", \"Topic1\", \"Topic1\", \"Topic1\", \"Topic1\", \"Topic1\", \"Topic1\", \"Topic2\", \"Topic2\", \"Topic2\", \"Topic2\", \"Topic2\", \"Topic2\", \"Topic2\", \"Topic2\", \"Topic2\", \"Topic2\", \"Topic2\", \"Topic2\", \"Topic2\", \"Topic2\", \"Topic2\", \"Topic2\", \"Topic2\", \"Topic2\", \"Topic2\", \"Topic2\", \"Topic2\", \"Topic2\", \"Topic2\", \"Topic2\", \"Topic2\", \"Topic2\", \"Topic2\", \"Topic2\", \"Topic2\", \"Topic2\", \"Topic2\", \"Topic2\", \"Topic2\", \"Topic2\", \"Topic2\", \"Topic2\", \"Topic2\", \"Topic2\", \"Topic2\", \"Topic3\", \"Topic3\", \"Topic3\", \"Topic3\", \"Topic3\", \"Topic3\", \"Topic3\", \"Topic3\", \"Topic3\", \"Topic3\", \"Topic3\", \"Topic3\", \"Topic3\", \"Topic3\", \"Topic3\", \"Topic3\", \"Topic3\", \"Topic3\", \"Topic3\", \"Topic3\", \"Topic3\", \"Topic3\", \"Topic3\", \"Topic3\", \"Topic3\", \"Topic3\", \"Topic3\", \"Topic3\", \"Topic3\", \"Topic3\", \"Topic3\", \"Topic3\", \"Topic3\", \"Topic3\", \"Topic3\", \"Topic3\", \"Topic3\", \"Topic3\", \"Topic3\", \"Topic4\", \"Topic4\", \"Topic4\", \"Topic4\", \"Topic4\", \"Topic4\", \"Topic4\", \"Topic4\", \"Topic4\", \"Topic4\", \"Topic4\", \"Topic4\", \"Topic4\", \"Topic4\", \"Topic4\", \"Topic4\", \"Topic4\", \"Topic4\", \"Topic4\", \"Topic4\", \"Topic4\", \"Topic4\", \"Topic4\", \"Topic4\", \"Topic4\", \"Topic4\", \"Topic4\", \"Topic4\", \"Topic4\", \"Topic4\", \"Topic4\", \"Topic4\", \"Topic4\", \"Topic4\", \"Topic4\", \"Topic4\", \"Topic4\", \"Topic5\", \"Topic5\", \"Topic5\", \"Topic5\", \"Topic5\", \"Topic5\", \"Topic5\", \"Topic5\", \"Topic5\", \"Topic5\", \"Topic5\", \"Topic5\", \"Topic5\", \"Topic5\", \"Topic5\", \"Topic5\", \"Topic5\", \"Topic5\", \"Topic5\", \"Topic5\", \"Topic5\", \"Topic5\", \"Topic5\", \"Topic5\", \"Topic5\", \"Topic5\", \"Topic5\", \"Topic5\", \"Topic5\", \"Topic5\", \"Topic5\", \"Topic5\", \"Topic5\", \"Topic5\", \"Topic5\", \"Topic5\", \"Topic5\", \"Topic5\", \"Topic5\"], \"logprob\": [30.0, 29.0, 28.0, 27.0, 26.0, 25.0, 24.0, 23.0, 22.0, 21.0, 20.0, 19.0, 18.0, 17.0, 16.0, 15.0, 14.0, 13.0, 12.0, 11.0, 10.0, 9.0, 8.0, 7.0, 6.0, 5.0, 4.0, 3.0, 2.0, 1.0, -3.9303, -4.1024, -4.1512, -4.1807, -4.2218, -4.2756, -4.5203, -4.5667, -4.7344, -4.8675, -4.8817, -4.8891, -4.9132, -4.9302, -4.9654, -5.0202, -5.0618, -5.1731, -5.1848, -5.1805, -5.2251, -5.254, -5.3181, -5.3582, -5.3697, -5.3938, -5.4543, -5.4916, -5.5154, -5.5428, -3.3167, -4.3503, -4.7624, -4.3829, -4.5705, -4.1131, -4.9576, -5.1093, -4.582, -5.2211, -3.1392, -3.5365, -4.1823, -4.3956, -4.4836, -4.5523, -4.7739, -4.8263, -4.9177, -4.9484, -5.012, -5.0418, -5.0618, -5.0825, -5.1005, -5.1614, -5.2781, -5.2956, -5.2728, -5.3015, -5.2594, -5.3511, -5.3806, -5.3876, -5.3707, -5.4564, -5.4773, -5.4871, -5.456, -5.4928, -5.4737, -5.1271, -5.2172, -3.8497, -4.3379, -5.3195, -5.1894, -5.2249, -5.3436, -3.1002, -3.8385, -4.0868, -4.1719, -4.2094, -4.3862, -4.6549, -4.7414, -4.739, -4.8502, -4.8732, -4.9266, -4.9676, -4.9958, -5.033, -5.0668, -5.0595, -5.1361, -5.1334, -5.1746, -5.2245, -5.2464, -5.2892, -5.2662, -5.3094, -5.2937, -5.35, -5.3004, -5.401, -5.3985, -4.7624, -4.8404, -4.2136, -4.6804, -4.5495, -4.2726, -4.3233, -5.1043, -5.0653, -3.2075, -3.7893, -3.8314, -3.8132, -3.8836, -4.4317, -4.6102, -4.6601, -4.6375, -4.7391, -4.8036, -4.8445, -4.9219, -4.987, -4.9978, -5.0266, -5.0852, -5.1048, -5.1952, -5.1664, -5.2462, -5.2692, -5.2822, -5.2899, -5.3016, -5.2793, -5.3857, -5.4099, -5.4038, -5.3669, -4.2823, -3.4063, -5.1107, -4.5321, -4.5875, -5.1814, -5.2291, -2.379, -3.5091, -3.6068, -3.7185, -3.9169, -4.069, -4.2287, -4.5303, -4.6223, -4.6459, -4.8206, -4.8485, -4.9192, -4.9387, -5.3255, -5.3532, -5.3251, -5.4416, -5.4407, -5.4919, -5.371, -5.4629, -5.5334, -5.5506, -5.5367, -5.5583, -5.5074, -5.5975, -5.796, -5.5361, -4.7922, -4.9491, -4.3656, -4.7535, -5.1368, -5.383, -5.0293, -5.3753, -5.11], \"loglift\": [30.0, 29.0, 28.0, 27.0, 26.0, 25.0, 24.0, 23.0, 22.0, 21.0, 20.0, 19.0, 18.0, 17.0, 16.0, 15.0, 14.0, 13.0, 12.0, 11.0, 10.0, 9.0, 8.0, 7.0, 6.0, 5.0, 4.0, 3.0, 2.0, 1.0, 0.4167, 0.4167, 0.4167, 0.4166, 0.4166, 0.4166, 0.4166, 0.4166, 0.4165, 0.4165, 0.4165, 0.4165, 0.4165, 0.4165, 0.4165, 0.4165, 0.4165, 0.4164, 0.4164, 0.4164, 0.4164, 0.4164, 0.4164, 0.4163, 0.4163, 0.4163, 0.4163, 0.4163, 0.4163, 0.4163, 0.4104, 0.4121, 0.3946, 0.3138, 0.312, 0.2336, 0.347, 0.3555, -0.0041, 0.2281, 1.7966, 1.7965, 1.7963, 1.7962, 1.7961, 1.7961, 1.7959, 1.7958, 1.7957, 1.7957, 1.7956, 1.7956, 1.7955, 1.7955, 1.7955, 1.7953, 1.7952, 1.7952, 1.7952, 1.7952, 1.7951, 1.7951, 1.7951, 1.795, 1.795, 1.7949, 1.7949, 1.7949, 1.7949, 1.7948, 1.7948, 1.6652, 1.6603, 0.7281, 0.0088, 1.5256, 0.4585, -0.5282, 0.2809, 2.4331, 2.4328, 2.4326, 2.4325, 2.4324, 2.4322, 2.4318, 2.4317, 2.4317, 2.4315, 2.4314, 2.4314, 2.4312, 2.4312, 2.4311, 2.4311, 2.431, 2.4309, 2.4309, 2.4307, 2.4306, 2.4306, 2.4305, 2.4305, 2.4304, 2.4303, 2.4303, 2.4301, 2.4301, 2.43, 2.3042, 2.255, 1.971, 2.1592, 2.0756, 1.9042, 1.8153, 2.2112, 1.9837, 3.0597, 3.0591, 3.0591, 3.0591, 3.059, 3.058, 3.0575, 3.0573, 3.0572, 3.0571, 3.0568, 3.0565, 3.0562, 3.0561, 3.0561, 3.056, 3.0557, 3.0553, 3.0552, 3.055, 3.0548, 3.0547, 3.0545, 3.0544, 3.0544, 3.0543, 3.0539, 3.0539, 3.0537, 3.053, 2.7956, 2.078, 2.8835, 2.25, 2.183, 2.519, 2.0019, 3.2082, 3.2074, 3.2073, 3.2071, 3.2068, 3.2066, 3.2062, 3.2054, 3.2051, 3.205, 3.2043, 3.2042, 3.2039, 3.2036, 3.2015, 3.2013, 3.201, 3.2004, 3.2003, 3.2003, 3.2003, 3.2001, 3.2, 3.1997, 3.1997, 3.1996, 3.1995, 3.1988, 3.1972, 3.1969, 3.0643, 2.9754, 2.4072, 2.5473, 2.6677, 2.9797, 2.0355, 2.8087, 1.0285]}, \"token.table\": {\"Topic\": [1, 1, 1, 2, 4, 5, 2, 1, 2, 3, 2, 5, 2, 5, 2, 5, 2, 4, 4, 4, 2, 3, 3, 2, 5, 5, 4, 4, 1, 2, 5, 1, 3, 3, 5, 1, 2, 4, 2, 5, 4, 5, 4, 2, 5, 2, 3, 2, 5, 1, 2, 4, 1, 4, 1, 3, 4, 2, 4, 3, 1, 3, 1, 5, 1, 5, 3, 5, 4, 2, 1, 2, 1, 2, 1, 1, 3, 1, 3, 2, 3, 4, 2, 5, 4, 2, 5, 2, 2, 3, 2, 3, 4, 2, 5, 4, 3, 3, 4, 2, 3, 5, 1, 2, 4, 1, 4, 1, 2, 1, 1, 2, 1, 2, 4, 2, 4, 2, 4, 2, 1, 3, 1, 2, 1, 1, 5, 1, 2, 2, 1, 2, 2, 3, 5, 4, 4, 1, 2, 5, 3, 2, 2, 4, 3, 3, 1, 4, 2, 3, 2, 5, 3, 5, 2, 3, 1, 2, 3, 2, 4, 5, 1, 3, 3, 1, 4, 2, 5, 3, 5, 2, 5, 2, 3, 5, 1, 2, 3, 5, 1, 4, 5, 1, 5, 3, 4, 3, 4, 1, 2, 3, 5, 1, 4, 1, 2, 3, 3, 2, 3, 3, 5, 3, 1, 5, 5, 1, 5, 5, 1, 4, 2, 1, 1, 1, 4, 2, 3, 2, 3, 2, 1, 2, 4, 4, 5, 2, 5, 1, 1, 2, 1, 4], \"Freq\": [0.9994717977226647, 0.9996384188057751, 0.9324484639663732, 0.06731579820078096, 0.9935069820239589, 0.9915835938727525, 0.9995387562304922, 0.7374586415762268, 0.26241578349972167, 0.9993212460440948, 0.9995261360825276, 0.9849215639419303, 0.2054558477682674, 0.7932878566608103, 0.9995001799399673, 0.9940311787174209, 0.9983916882639023, 0.998382132691367, 0.9981150728403317, 0.9955283034469723, 0.9995712152764334, 0.9980032886355801, 0.9979404116421735, 0.9980273277095184, 0.995351281025201, 0.9894467662340202, 0.9978967949534395, 0.9983503836625521, 0.9995434999594837, 0.9988695597987051, 0.9998744142011452, 0.410538634431926, 0.5894658843054047, 0.9983002006330548, 0.9858618230991426, 0.17333486616863739, 0.24631796771332679, 0.5838648123575154, 0.5502194160258048, 0.4491955232472964, 0.9920176008958775, 0.9933802136908407, 0.9928925251391324, 0.9991709597173329, 0.991327167626315, 0.23915774403601922, 0.7599044447596095, 0.9991831535915521, 0.9992150915652293, 0.2365670394828117, 0.762056118989713, 0.9983834578180357, 0.9996933819087696, 0.997479830564941, 0.9996949855501169, 0.99954707217025, 0.9954208866572796, 0.5831185273524859, 0.41574191301982794, 0.9951700582525487, 0.9996086039076388, 0.9991160331696946, 0.9998070087503657, 0.9991146166348667, 0.483236336699131, 0.5168793727984377, 0.9979598295962514, 0.9982981800891411, 0.9937473399564535, 0.9977198809373963, 0.9022019467907135, 0.09773100326318662, 0.9403730187979069, 0.059017186345719265, 0.9998390718936508, 0.9997846063461211, 0.9982722136987607, 0.99990550655331, 0.9982322867204698, 0.2686733572446024, 0.6372076083323314, 0.0927279728543318, 0.9992477386251386, 0.9992678748097162, 0.991960150018587, 0.9975386881479092, 0.9943224527879607, 0.9983763981038696, 0.9980638742912943, 0.9951079004999277, 0.9985716916496288, 0.998941757026018, 0.9983057361252969, 0.9992203242705003, 0.9926050429724805, 0.9966146873079572, 0.9974955224783281, 0.9986511711057795, 0.9960070777156962, 0.34058822549481943, 0.35025030281382136, 0.309186474208063, 0.9954002432308194, 0.00459043801489941, 0.9967703808113331, 0.9999337922103023, 0.9989014774635354, 0.9997411778778844, 0.9993861524690597, 0.9993766267865177, 0.9780255446258618, 0.021869339524258638, 0.29497600887130265, 0.2585592176526233, 0.4442848528678879, 0.9992166307810856, 0.9977484640304136, 0.9986577337109486, 0.9959348236323606, 0.9980021121324196, 0.9994200913342264, 0.9964566675315557, 0.7804042515841797, 0.21970324971284824, 0.9995621281776954, 0.13329691094398133, 0.863763982916999, 0.8278612379705864, 0.17191086032103825, 0.9991468869450916, 0.9935994308481055, 0.006348878152384061, 0.30035972549563583, 0.6987643354794844, 0.9969844639647151, 0.9981185785200091, 0.99611922361449, 0.9999631010709438, 0.20343273272075973, 0.7960411280377555, 0.9976211632907144, 0.998477572792388, 0.23251182135185344, 0.768512756889284, 0.9953332143668039, 0.996331099814934, 0.6503385403698713, 0.34798816633826446, 0.16189245008146408, 0.8368594342672605, 0.9998004590479124, 0.9862514591675733, 0.9996607466237226, 0.9867233317378703, 0.12099309899759839, 0.8784098987225644, 0.9999022246422211, 0.9983483495566302, 0.9993118050207107, 0.9994819230018656, 0.8381982803031758, 0.1590741261889239, 0.9995307989320715, 0.9954563133711372, 0.9988838104282576, 0.9998411471704501, 0.9934869957231379, 0.9995605673331491, 0.9961826308001909, 0.415060867673824, 0.5820975583230459, 0.3254804898845655, 0.6731528313521695, 0.34727492405551447, 0.5386109703670927, 0.11288826732383116, 0.12619803611658317, 0.8733705356639724, 0.9996513300866676, 0.9970046269513297, 0.9992664464467261, 0.9974236017565141, 0.9960794860770784, 0.9998326228514625, 0.9896497451343028, 0.8008287693324088, 0.1986551985940859, 0.9975408585470548, 0.991036777634791, 0.6565094622716716, 0.3435223930491305, 0.9978435009017046, 0.9902785080583599, 0.9996819355809206, 0.9988424161581251, 0.9998640005451903, 0.9974378437110131, 0.9978071122037296, 0.9947607666211039, 0.8774041223125737, 0.12324124988457534, 0.9987434336719041, 0.9983353075667543, 0.9984391432481728, 0.9995454480617282, 0.9965539320394244, 0.9968044525822093, 0.9996377310799388, 0.9905561531449504, 0.9968723003817079, 0.6256076689277605, 0.3744694552484926, 0.998733443118603, 0.9995464057983446, 0.999708473932271, 0.9998170159320786, 0.9899980522330758, 0.3696339633243772, 0.6300806583496836, 0.9994445539820698, 0.9985720900497909, 0.9988998735815233, 0.83255279965217, 0.16724394615762664, 0.997739709532292, 0.9976695792756716, 0.9967065837108338, 0.999094482775976, 0.9930867750485728, 0.99984159839156, 0.9004734885699022, 0.09944714775431597, 0.9996147904716968, 0.9927383647833427], \"Term\": [\"!\", \",\", \"-PRON-\", \"-PRON-\", \"?\", \"ad\", \"almost\", \"also\", \"also\", \"amazon\", \"amp\", \"apply\", \"arm\", \"arm\", \"audio\", \"average\", \"awesome\", \"b\", \"bag\", \"ball\", \"battery\", \"beginner\", \"behringer\", \"board\", \"bridge\", \"bronze\", \"budget\", \"button\", \"buy\", \"cable\", \"capo\", \"case\", \"case\", \"channel\", \"clarity\", \"classic\", \"classic\", \"classic\", \"clip\", \"clip\", \"clone\", \"compact\", \"comparison\", \"cord\", \"custom\", \"day\", \"day\", \"delay\", \"design\", \"device\", \"device\", \"distortion\", \"do\", \"drive\", \"easy\", \"effect\", \"ernie\", \"expect\", \"expect\", \"fairly\", \"feel\", \"figure\", \"find\", \"finger\", \"finish\", \"finish\", \"free\", \"fret\", \"fuzz\", \"gain\", \"get\", \"get\", \"go\", \"go\", \"good\", \"great\", \"grip\", \"guitar\", \"handle\", \"happy\", \"happy\", \"happy\", \"headphone\", \"headstock\", \"increase\", \"input\", \"install\", \"interface\", \"ipad\", \"item\", \"jack\", \"jam\", \"joyo\", \"knob\", \"kyser\", \"layer\", \"learn\", \"least\", \"leather\", \"leave\", \"leave\", \"leave\", \"like\", \"like\", \"listen\", \"little\", \"lock\", \"look\", \"loop\", \"love\", \"make\", \"make\", \"metal\", \"metal\", \"metal\", \"mic\", \"micro\", \"microphone\", \"mid\", \"mount\", \"much\", \"n\", \"need\", \"need\", \"nice\", \"nickel\", \"nickel\", \"no\", \"no\", \"noise\", \"not\", \"not\", \"note\", \"note\", \"nut\", \"ocd\", \"od\", \"one\", \"onto\", \"onto\", \"open\", \"output\", \"overdrive\", \"overdrive\", \"own\", \"package\", \"pad\", \"pad\", \"part\", \"part\", \"pedal\", \"phosphor\", \"pick\", \"pin\", \"plastic\", \"plastic\", \"play\", \"plug\", \"position\", \"power\", \"press\", \"press\", \"price\", \"pull\", \"read\", \"really\", \"receive\", \"record\", \"release\", \"remove\", \"remove\", \"rest\", \"rest\", \"right\", \"right\", \"right\", \"run\", \"run\", \"s\", \"sand\", \"say\", \"screen\", \"secure\", \"set\", \"settle\", \"show\", \"show\", \"single\", \"solo\", \"sound\", \"sound\", \"spring\", \"squeeze\", \"stand\", \"strap\", \"string\", \"studio\", \"stuff\", \"suppose\", \"switch\", \"switch\", \"tell\", \"tension\", \"that\", \"thing\", \"thumb\", \"tight\", \"time\", \"tip\", \"together\", \"tone\", \"tone\", \"track\", \"try\", \"tune\", \"tuner\", \"tweak\", \"two\", \"two\", \"type\", \"unit\", \"usb\", \"use\", \"use\", \"usually\", \"vintage\", \"violin\", \"volume\", \"watch\", \"well\", \"work\", \"work\", \"would\", \"xl\"]}, \"R\": 30, \"lambda.step\": 0.01, \"plot.opts\": {\"xlab\": \"PC1\", \"ylab\": \"PC2\"}, \"topic.order\": [4, 1, 2, 5, 3]};\n",
       "\n",
       "function LDAvis_load_lib(url, callback){\n",
       "  var s = document.createElement('script');\n",
       "  s.src = url;\n",
       "  s.async = true;\n",
       "  s.onreadystatechange = s.onload = callback;\n",
       "  s.onerror = function(){console.warn(\"failed to load library \" + url);};\n",
       "  document.getElementsByTagName(\"head\")[0].appendChild(s);\n",
       "}\n",
       "\n",
       "if(typeof(LDAvis) !== \"undefined\"){\n",
       "   // already loaded: just create the visualization\n",
       "   !function(LDAvis){\n",
       "       new LDAvis(\"#\" + \"ldavis_el199051405045527634563862865181\", ldavis_el199051405045527634563862865181_data);\n",
       "   }(LDAvis);\n",
       "}else if(typeof define === \"function\" && define.amd){\n",
       "   // require.js is available: use it to load d3/LDAvis\n",
       "   require.config({paths: {d3: \"https://d3js.org/d3.v5\"}});\n",
       "   require([\"d3\"], function(d3){\n",
       "      window.d3 = d3;\n",
       "      LDAvis_load_lib(\"https://cdn.jsdelivr.net/gh/bmabey/pyLDAvis@3.2.2/pyLDAvis/js/ldavis.v3.0.0.js\", function(){\n",
       "        new LDAvis(\"#\" + \"ldavis_el199051405045527634563862865181\", ldavis_el199051405045527634563862865181_data);\n",
       "      });\n",
       "    });\n",
       "}else{\n",
       "    // require.js not available: dynamically load d3 & LDAvis\n",
       "    LDAvis_load_lib(\"https://d3js.org/d3.v5.js\", function(){\n",
       "         LDAvis_load_lib(\"https://cdn.jsdelivr.net/gh/bmabey/pyLDAvis@3.2.2/pyLDAvis/js/ldavis.v3.0.0.js\", function(){\n",
       "                 new LDAvis(\"#\" + \"ldavis_el199051405045527634563862865181\", ldavis_el199051405045527634563862865181_data);\n",
       "            })\n",
       "         });\n",
       "}\n",
       "</script>"
      ],
      "text/plain": [
       "PreparedData(topic_coordinates=              x         y  topics  cluster       Freq\n",
       "topic                                                \n",
       "3     -0.343974  0.027219       1        1  65.916303\n",
       "0     -0.168363 -0.026301       2        1  16.582398\n",
       "1      0.157214 -0.312139       3        1   8.773146\n",
       "4      0.166931  0.214557       4        1   4.686688\n",
       "2      0.188191  0.096663       5        1   4.041464, topic_info=        Term         Freq        Total Category  logprob  loglift\n",
       "181    pedal  3479.000000  3479.000000  Default  30.0000  30.0000\n",
       "2185    capo  1814.000000  1814.000000  Default  29.0000  29.0000\n",
       "1088    tone  2010.000000  2010.000000  Default  28.0000  28.0000\n",
       "903     pick  1914.000000  1914.000000  Default  27.0000  27.0000\n",
       "158      amp  2339.000000  2339.000000  Default  26.0000  26.0000\n",
       "...      ...          ...          ...      ...      ...      ...\n",
       "2199  remove   115.030704   197.561385   Topic5  -5.1368   2.6677\n",
       "1180    onto    89.930185   113.059485   Topic5  -5.3830   2.9797\n",
       "593    leave   128.093616   413.989649   Topic5  -5.0293   2.0355\n",
       "1629    rest    90.626222   135.184754   Topic5  -5.3753   2.8087\n",
       "772    right   118.158242  1045.281346   Topic5  -5.1100   1.0285\n",
       "\n",
       "[224 rows x 6 columns], token_table=      Topic      Freq    Term\n",
       "term                         \n",
       "281       1  0.999472       !\n",
       "399       1  0.999638       ,\n",
       "109       1  0.932448  -PRON-\n",
       "109       2  0.067316  -PRON-\n",
       "508       4  0.993507       ?\n",
       "...     ...       ...     ...\n",
       "18        1  0.999842    well\n",
       "19        1  0.900473    work\n",
       "19        2  0.099447    work\n",
       "91        1  0.999615   would\n",
       "4958      4  0.992738      xl\n",
       "\n",
       "[234 rows x 3 columns], R=30, lambda_step=0.01, plot_opts={'xlab': 'PC1', 'ylab': 'PC2'}, topic_order=[4, 1, 2, 5, 3])"
      ]
     },
     "execution_count": 294,
     "metadata": {},
     "output_type": "execute_result"
    }
   ],
   "source": [
    "pyLDAvis.enable_notebook()\n",
    "vis = pyLDAvis.gensim.prepare(lda_model, doc_term_matrix, dictionary)\n",
    "vis "
   ]
  },
  {
   "cell_type": "markdown",
   "metadata": {},
   "source": [
    "# Bad Reviews -NMF"
   ]
  },
  {
   "cell_type": "code",
   "execution_count": 295,
   "metadata": {},
   "outputs": [
    {
     "data": {
      "text/plain": [
       "NMF(n_components=5, random_state=0)"
      ]
     },
     "execution_count": 295,
     "metadata": {},
     "output_type": "execute_result"
    }
   ],
   "source": [
    "# Topic Modeling - NMF#  -- Bad\n",
    "n_topics = 5\n",
    "random_state=0\n",
    "from sklearn.feature_extraction.text import CountVectorizer, TfidfVectorizer\n",
    "vec = TfidfVectorizer(max_features=5000, stop_words=\"english\", max_df=0.95, min_df=2)\n",
    "features = vec.fit_transform(df_bad.text)\n",
    "\n",
    "from sklearn.decomposition import NMF\n",
    "cls = NMF(n_components=n_topics, random_state=random_state)\n",
    "cls.fit(features)"
   ]
  },
  {
   "cell_type": "code",
   "execution_count": 296,
   "metadata": {},
   "outputs": [
    {
     "name": "stdout",
     "output_type": "stream",
     "text": [
      "0 stand work use guitar mic product try make great tuner doesnt like price look good \n",
      "1 string sound guitar like set high play tune change low ball steel pick dont nylon \n",
      "2 pedal sound amp distortion effect tone like behringer use volume bos want noise unit reverb \n",
      "3 cable work buy jack cheap long plug connector didnt problem xlr signal cord time month \n",
      "4 strap guitar lock leather fit uncomfortable button play levy dont short neck electric big model \n"
     ]
    }
   ],
   "source": [
    "n_top_words = 15\n",
    "feature_names = vec.get_feature_names()\n",
    "\n",
    "for i, topic_vec in enumerate(cls.components_):\n",
    "    print(i, end=' ')\n",
    "   \n",
    "    for fid in topic_vec.argsort()[-1:-n_top_words-1:-1]:\n",
    "        print(feature_names[fid], end=' ')\n",
    "    print()"
   ]
  },
  {
   "cell_type": "markdown",
   "metadata": {},
   "source": [
    "# Good Reviews - NMF"
   ]
  },
  {
   "cell_type": "code",
   "execution_count": 297,
   "metadata": {},
   "outputs": [
    {
     "data": {
      "text/plain": [
       "NMF(n_components=5, random_state=0)"
      ]
     },
     "execution_count": 297,
     "metadata": {},
     "output_type": "execute_result"
    }
   ],
   "source": [
    "n_topics = 5\n",
    "random_state=0\n",
    "from sklearn.feature_extraction.text import CountVectorizer, TfidfVectorizer\n",
    "vec = TfidfVectorizer(max_features=5000, stop_words=\"english\", max_df=0.95, min_df=2)\n",
    "features = vec.fit_transform(df_good.text)\n",
    "\n",
    "from sklearn.decomposition import NMF\n",
    "cls = NMF(n_components=n_topics, random_state=random_state)\n",
    "cls.fit(features)"
   ]
  },
  {
   "cell_type": "code",
   "execution_count": 298,
   "metadata": {},
   "outputs": [
    {
     "name": "stdout",
     "output_type": "stream",
     "text": [
      "0 cable great tuner work stand good guitar use price mic quality easy product tune need \n",
      "1 string sound guitar play great acoustic good use strings tune tone set elixir daddario change \n",
      "2 strap guitar lock leather nice comfortable button look great like make fit good end shoulder \n",
      "3 pick grip play like use dunlop picks holder guitar nice hold good great jazz try \n",
      "4 pedal amp sound tone effect like power use distortion great board tube delay really overdrive \n"
     ]
    }
   ],
   "source": [
    "n_top_words = 15\n",
    "feature_names = vec.get_feature_names()\n",
    "\n",
    "for i, topic_vec in enumerate(cls.components_):\n",
    "    print(i, end=' ')\n",
    "   \n",
    "    for fid in topic_vec.argsort()[-1:-n_top_words-1:-1]:\n",
    "        print(feature_names[fid], end=' ')\n",
    "    print()"
   ]
  },
  {
   "cell_type": "code",
   "execution_count": 299,
   "metadata": {},
   "outputs": [],
   "source": [
    "# TF-IDF #\n",
    "\n",
    "vec = TfidfVectorizer(stop_words=\"english\")\n",
    "vec.fit(df_bad.text.values)\n",
    "features = vec.transform(df_bad.text.values)"
   ]
  },
  {
   "cell_type": "code",
   "execution_count": 300,
   "metadata": {},
   "outputs": [
    {
     "data": {
      "text/plain": [
       "MiniBatchKMeans(n_clusters=5, random_state=0)"
      ]
     },
     "execution_count": 300,
     "metadata": {},
     "output_type": "execute_result"
    }
   ],
   "source": [
    "## K- Means Clustering#\n",
    "random_state = 0 \n",
    "\n",
    "cls = MiniBatchKMeans(n_clusters=5, random_state=random_state)\n",
    "cls.fit(features)"
   ]
  },
  {
   "cell_type": "code",
   "execution_count": 301,
   "metadata": {},
   "outputs": [
    {
     "data": {
      "text/plain": [
       "array([3, 2, 2, 2, 2, 2, 0, 0, 2, 2, 2, 3, 3, 3, 1, 1, 1, 1, 2, 0, 2, 2,\n",
       "       2, 2, 2, 2, 4, 4, 4, 2, 2, 2, 1, 0, 2, 2, 2, 4, 2, 2, 2, 4, 4, 4,\n",
       "       4, 4, 4, 4, 4, 1, 4, 4, 1, 2, 2, 2, 2, 1, 0, 0, 0, 2, 2, 4, 4, 4,\n",
       "       2, 2, 2, 2, 2, 2, 2, 2, 2, 2, 2, 2, 0, 4, 0, 0, 1, 3, 2, 0, 2, 2,\n",
       "       4, 3, 2, 3, 1, 2, 0, 4, 4, 4, 4, 4, 2, 4, 4, 4, 4, 1, 1, 1, 1, 4,\n",
       "       4, 3, 2, 3, 3, 2, 2, 1, 2, 2, 1, 2, 1, 0, 2, 1, 0, 4, 2, 2, 2, 1,\n",
       "       2, 0, 0, 2, 1, 2, 0, 2, 4, 2, 1, 1, 2, 1, 4, 0, 2, 0, 4, 2, 0, 3,\n",
       "       1, 1, 1, 0, 2, 2, 2, 4, 2, 2, 2, 4, 4, 2, 2, 2, 2, 2, 2, 2, 0, 2,\n",
       "       2, 2, 4, 1, 4, 2, 4, 1, 2, 2, 2, 0, 0, 2, 3, 2, 0, 3, 2, 2, 2, 2,\n",
       "       2, 0, 2, 4, 0, 2, 2, 3, 3, 2, 2, 2, 2, 0, 3, 2, 3, 1, 3, 2, 2, 2,\n",
       "       3, 4, 3, 2, 1, 2, 2, 2, 0, 2, 2, 0, 0, 1, 1, 2, 3, 3, 2, 2, 2, 0,\n",
       "       2, 0, 2, 0, 0, 1, 2, 2, 2, 2, 2, 2, 3, 3, 2, 0, 3, 1, 2, 0, 2, 2,\n",
       "       0, 4, 2, 3, 3, 3, 3, 2, 2, 0, 2, 3, 2, 2, 0, 2, 0, 0, 4, 2, 2, 1,\n",
       "       3, 3, 3, 3, 2, 1, 0, 0, 0, 3, 2, 2, 2, 2, 3, 0, 0, 2, 4, 2, 2, 2,\n",
       "       2, 0, 2, 2, 2, 2, 2, 4, 2, 3, 2, 0, 2, 1, 2, 1, 0, 0, 2, 2, 3, 2,\n",
       "       2, 0, 4, 0, 0, 0, 2, 2, 2, 2, 0, 2, 2, 2, 2, 4, 2, 2, 2, 1, 0, 1,\n",
       "       2, 2, 0, 2, 0, 0, 0, 0, 2, 0, 2, 2, 2, 3, 3, 0, 2, 0, 0, 2, 0, 3,\n",
       "       4, 0, 2, 3, 3, 2, 2, 4, 0, 1, 4, 2, 2, 2, 2, 2, 2, 2, 2, 2, 4, 4,\n",
       "       2, 2, 0, 2, 3, 3, 2, 2, 2, 2, 4, 1, 0, 2, 2, 2, 4, 0, 3, 3, 2, 2,\n",
       "       1, 2, 2, 2, 0, 0, 2, 4, 2, 2, 0, 0, 0, 0, 3, 3, 3, 0, 3, 3, 4, 0,\n",
       "       0, 3, 3, 0, 3, 0, 2, 1, 2, 2, 1, 0, 1, 0, 2, 2, 2, 2, 1, 0, 2, 0,\n",
       "       2, 2, 4, 4, 1], dtype=int32)"
      ]
     },
     "execution_count": 301,
     "metadata": {},
     "output_type": "execute_result"
    }
   ],
   "source": [
    "# predict cluster labels for new dataset\n",
    "cls.predict(features)\n",
    "\n",
    "# to get cluster labels for the dataset used while\n",
    "# training the model (used for models that does not\n",
    "# support prediction on new dataset).\n",
    "cls.labels_"
   ]
  },
  {
   "cell_type": "code",
   "execution_count": 302,
   "metadata": {},
   "outputs": [],
   "source": [
    "pca = PCA(n_components=2, random_state=random_state)\n",
    "reduced_features = pca.fit_transform(features.toarray())\n",
    "\n",
    "# reduce the cluster centers to 2D\n",
    "reduced_cluster_centers = pca.transform(cls.cluster_centers_)"
   ]
  },
  {
   "cell_type": "code",
   "execution_count": 303,
   "metadata": {},
   "outputs": [
    {
     "data": {
      "image/png": "[encoded data removed]",
      "text/plain": [
       "<Figure size 626.4x307.44 with 1 Axes>"
      ]
     },
     "metadata": {},
     "output_type": "display_data"
    }
   ],
   "source": [
    "plt.scatter(reduced_features[:,0], reduced_features[:,1], c=cls.predict(features))\n",
    "plt.scatter(reduced_cluster_centers[:, 0], reduced_cluster_centers[:,1], marker='x', s=150, c='b')\n",
    "plt.savefig('bad.png')"
   ]
  },
  {
   "cell_type": "code",
   "execution_count": 307,
   "metadata": {},
   "outputs": [],
   "source": [
    "# TF-IDF #\n",
    "\n",
    "vec = TfidfVectorizer(stop_words=\"english\")\n",
    "vec.fit(df_good.text.values)\n",
    "features = vec.transform(df_good.text.values)"
   ]
  },
  {
   "cell_type": "code",
   "execution_count": 308,
   "metadata": {},
   "outputs": [
    {
     "data": {
      "text/plain": [
       "MiniBatchKMeans(n_clusters=5, random_state=0)"
      ]
     },
     "execution_count": 308,
     "metadata": {},
     "output_type": "execute_result"
    }
   ],
   "source": [
    "## K- Means Clustering#\n",
    "random_state = 0 \n",
    "\n",
    "cls = MiniBatchKMeans(n_clusters=5, random_state=random_state)\n",
    "cls.fit(features)"
   ]
  },
  {
   "cell_type": "code",
   "execution_count": 309,
   "metadata": {},
   "outputs": [
    {
     "data": {
      "text/plain": [
       "array([2, 2, 2, ..., 1, 1, 1], dtype=int32)"
      ]
     },
     "execution_count": 309,
     "metadata": {},
     "output_type": "execute_result"
    }
   ],
   "source": [
    "# predict cluster labels for new dataset\n",
    "cls.predict(features)\n",
    "\n",
    "# to get cluster labels for the dataset used while\n",
    "# training the model (used for models that does not\n",
    "# support prediction on new dataset).\n",
    "cls.labels_"
   ]
  },
  {
   "cell_type": "code",
   "execution_count": 310,
   "metadata": {},
   "outputs": [],
   "source": [
    "pca = PCA(n_components=2, random_state=random_state)\n",
    "reduced_features = pca.fit_transform(features.toarray())\n",
    "\n",
    "# reduce the cluster centers to 2D\n",
    "reduced_cluster_centers = pca.transform(cls.cluster_centers_)"
   ]
  },
  {
   "cell_type": "code",
   "execution_count": 311,
   "metadata": {},
   "outputs": [
    {
     "data": {
      "image/png": "[encoded data removed]",
      "text/plain": [
       "<Figure size 626.4x307.44 with 1 Axes>"
      ]
     },
     "metadata": {},
     "output_type": "display_data"
    }
   ],
   "source": [
    "plt.scatter(reduced_features[:,0], reduced_features[:,1], c=cls.predict(features))\n",
    "plt.scatter(reduced_cluster_centers[:, 0], reduced_cluster_centers[:,1], marker='x', s=150, c='b')\n",
    "plt.savefig('good.png')"
   ]
  },
  {
   "cell_type": "code",
   "execution_count": 312,
   "metadata": {},
   "outputs": [
    {
     "data": {
      "text/plain": [
       "0.011882087369832806"
      ]
     },
     "execution_count": 312,
     "metadata": {},
     "output_type": "execute_result"
    }
   ],
   "source": [
    "from sklearn.metrics import silhouette_score\n",
    "silhouette_score(features, labels=cls.predict(features))"
   ]
  },
  {
   "cell_type": "code",
   "execution_count": null,
   "metadata": {},
   "outputs": [],
   "source": [
    "from sklearn.metrics import silhouette_score\n",
    "silhouette_score(features, labels=cls.predict(features))"
   ]
  },
  {
   "cell_type": "code",
   "execution_count": null,
   "metadata": {},
   "outputs": [],
   "source": [
    "# DBSCAN #"
   ]
  },
  {
   "cell_type": "code",
   "execution_count": null,
   "metadata": {},
   "outputs": [],
   "source": [
    "from sklearn.cluster import DBSCAN, SpectralClustering, MeanShift"
   ]
  },
  {
   "cell_type": "code",
   "execution_count": null,
   "metadata": {},
   "outputs": [],
   "source": [
    "# Standardize our data for DBSCAN and fit DBSCAN\n",
    "X = StandardScaler().fit_transform(reduced_features)\n",
    "db = DBSCAN(eps=0.15, min_samples=3).fit(X)\n",
    "\n",
    "core_samples_mask = np.zeros_like(db.labels_, dtype=bool)\n",
    "core_samples_mask[db.core_sample_indices_] = True\n",
    "labels = db.labels_\n",
    "labels_true=df.text\n",
    "\n",
    "\n",
    "print('Estimated number of clusters: %d' % n_clusters_)\n",
    "print('Estimated number of noise points: %d' % n_noise_)\n",
    "print(\"Homogeneity: %0.3f\" % metrics.homogeneity_score(labels_true, labels))\n",
    "print(\"Completeness: %0.3f\" % metrics.completeness_score(labels_true, labels))\n",
    "print(\"V-measure: %0.3f\" % metrics.v_measure_score(labels_true, labels))\n",
    "print(\"Adjusted Rand Index: %0.3f\"\n",
    "      % metrics.adjusted_rand_score(labels_true, labels))\n",
    "print(\"Adjusted Mutual Information: %0.3f\"\n",
    "      % metrics.adjusted_mutual_info_score(labels_true, labels))\n",
    "print(\"Silhouette Coefficient: %0.3f\"\n",
    "      % metrics.silhouette_score(X, labels))\n",
    "\n",
    "# Number of clusters in labels, ignoring noise if present.\n",
    "n_clusters_ = len(set(labels)) - (1 if -1 in labels else 0)\n",
    "\n",
    "unique_labels = set(labels)\n",
    "colors = plt.cm.rainbow(np.linspace(0, 1, len(unique_labels)))\n",
    "plt.figure(dpi=200)\n",
    "show_core = True\n",
    "show_non_core = True\n",
    "for k, col in zip(unique_labels, colors):\n",
    "    if k == -1:\n",
    "        # Black used for noise.\n",
    "        col = 'k'\n",
    "\n",
    "    class_member_mask = (labels == k)\n",
    "    if show_core:\n",
    "        xy = X[class_member_mask & core_samples_mask]\n",
    "        x, y = xy[:,0], xy[:,1]\n",
    "        plt.scatter(x, y, c=col, edgecolors='k',  s=20, linewidths=1.1) # add black border for core points\n",
    "    \n",
    "    if show_non_core:\n",
    "        xy = X[class_member_mask & ~core_samples_mask]\n",
    "        x, y = xy[:,0], xy[:,1]\n",
    "        plt.scatter(x, y, c=col, s=20, linewidths=1.1)\n",
    "\n",
    "plt.title('Estimated number of clusters: %d' % n_clusters_);"
   ]
  },
  {
   "cell_type": "code",
   "execution_count": null,
   "metadata": {},
   "outputs": [],
   "source": [
    "df_bad['word_count'] = df_bad['text'].apply(lambda x: len(str(x).split()))\n",
    "df_bad"
   ]
  },
  {
   "cell_type": "code",
   "execution_count": null,
   "metadata": {},
   "outputs": [],
   "source": [
    "df_good['word_count'] = df_good['text'].apply(lambda x: len(str(x).split()))\n",
    "df_good"
   ]
  },
  {
   "cell_type": "code",
   "execution_count": null,
   "metadata": {},
   "outputs": [],
   "source": [
    "# Create N-grams #"
   ]
  },
  {
   "cell_type": "code",
   "execution_count": null,
   "metadata": {},
   "outputs": [],
   "source": [
    "from collections import defaultdict\n",
    "from plotly import tools\n",
    "import plotly.graph_objs as go\n",
    "from plotly.offline import iplot\n",
    "\n",
    "df_pos = df_good.dropna()\n",
    "df_neg = df_bad.dropna()\n",
    "\n",
    "def create_ngrams(text, n_gram=1):\n",
    "    token = [token for token in text.lower().split(\" \") if token != \"\" if token not in STOPWORDS]\n",
    "    ngrams = zip(*[token[i:] for i in range(n_gram)])\n",
    "    return [\" \".join(ngram) for ngram in ngrams]\n",
    "\n",
    "def bar_chart(df, color):\n",
    "    trace = go.Bar(\n",
    "        y=df[\"word\"].values[::-1],\n",
    "        x=df[\"wordcount\"].values[::-1],\n",
    "        showlegend=True,\n",
    "        orientation = 'h',\n",
    "        marker=dict(\n",
    "            color=color,\n",
    "        ),\n",
    "    )\n",
    "    return trace\n"
   ]
  },
  {
   "cell_type": "code",
   "execution_count": null,
   "metadata": {},
   "outputs": [],
   "source": [
    "## positive ##\n",
    "for sent in df_pos[\"text\"]:\n",
    "    for word in create_ngrams(sent,3):\n",
    "        freq_dict[word] += 1\n",
    "fd_sorted = pd.DataFrame(sorted(freq_dict.items(), key=lambda x: x[1])[::-1])\n",
    "fd_sorted.columns = [\"word\", \"wordcount\"]\n",
    "trace0 = bar_chart(fd_sorted.head(25), 'green')\n",
    "\n",
    "## Get the bar chart from negative reviews ##\n",
    "freq_dict = defaultdict(int)\n",
    "for sent in df_neg[\"text\"]:\n",
    "    for word in create_ngrams(sent,3):\n",
    "        freq_dict[word] += 1\n",
    "fd_sorted = pd.DataFrame(sorted(freq_dict.items(), key=lambda x: x[1])[::-1])\n",
    "fd_sorted.columns = [\"word\", \"wordcount\"]\n",
    "trace2 = bar_chart(fd_sorted.head(25), 'red')\n",
    "\n",
    "\n",
    "# Creating two subplots\n",
    "fig = tools.make_subplots(rows=2, cols=1, vertical_spacing=0.04, horizontal_spacing=0.05,\n",
    "                          subplot_titles=[\"Positive reviews\", \n",
    "                                          \"Negative reviews\"])\n",
    "fig.append_trace(trace0, 1, 1)\n",
    "fig.append_trace(trace2, 2, 1)\n",
    "fig['layout'].update(height=1000, width=800, paper_bgcolor='rgb(233,233,233)', title=\"Trigram Count Plots\")\n",
    "iplot(fig, filename='word-plots')"
   ]
  },
  {
   "cell_type": "code",
   "execution_count": null,
   "metadata": {},
   "outputs": [],
   "source": [
    "text = df_bad[\"text\"]\n",
    "wordcloud = WordCloud(width=2200, height=1500, max_font_size=300, min_font_size=20,background_color = 'white',\n",
    "    stopwords = stop).generate(str(text))\n",
    "fig = plt.figure(\n",
    "    figsize = (20, 10),\n",
    "    facecolor = 'b',\n",
    "    edgecolor = 'b')\n",
    "plt.imshow(wordcloud, interpolation=\"bilinear\")\n",
    "plt.axis(\"off\")\n",
    "plt.margins(x=0, y=0)\n",
    "plt.savefig('bad_cloud.png')\n",
    "plt.show()\n"
   ]
  },
  {
   "cell_type": "code",
   "execution_count": null,
   "metadata": {},
   "outputs": [],
   "source": [
    "text = df_good[\"text\"]\n",
    "wordcloud = WordCloud(width=2200, height=1500, max_font_size=300, min_font_size=20,background_color = 'white',\n",
    "    stopwords = stop).generate(str(text))\n",
    "fig = plt.figure(\n",
    "    figsize = (20, 10),\n",
    "    facecolor = 'b',\n",
    "    edgecolor = 'b')\n",
    "plt.imshow(wordcloud, interpolation=\"bilinear\")\n",
    "plt.axis(\"off\")\n",
    "plt.margins(x=0, y=0)\n",
    "plt.savefig('good_cloud.png')\n",
    "plt.show()\n"
   ]
  },
  {
   "cell_type": "code",
   "execution_count": null,
   "metadata": {},
   "outputs": [],
   "source": []
  },
  {
   "cell_type": "code",
   "execution_count": null,
   "metadata": {},
   "outputs": [],
   "source": []
  },
  {
   "cell_type": "code",
   "execution_count": null,
   "metadata": {},
   "outputs": [],
   "source": []
  }
 ],
 "metadata": {
  "kernelspec": {
   "display_name": "Python 3",
   "language": "python",
   "name": "python3"
  },
  "language_info": {
   "codemirror_mode": {
    "name": "ipython",
    "version": 3
   },
   "file_extension": ".py",
   "mimetype": "text/x-python",
   "name": "python",
   "nbconvert_exporter": "python",
   "pygments_lexer": "ipython3",
   "version": "3.8.5"
  }
 },
 "nbformat": 4,
 "nbformat_minor": 4
}
